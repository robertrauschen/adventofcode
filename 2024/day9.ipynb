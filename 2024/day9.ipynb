{
 "cells": [
  {
   "cell_type": "code",
   "execution_count": 1,
   "metadata": {},
   "outputs": [],
   "source": [
    "from __future__ import annotations\n",
    "\n",
    "INPUTFILE = 'testinput9.txt'\n",
    "\n",
    "with open(INPUTFILE, 'r') as file:\n",
    "    input = file.read()\n",
    "\n",
    "row = input.split('\\n')[:-1][0]"
   ]
  },
  {
   "cell_type": "code",
   "execution_count": 2,
   "metadata": {},
   "outputs": [],
   "source": [
    "unwr = []\n",
    "for i in range(len(row)):\n",
    "    if i%2 == 0:\n",
    "        unwr += [i//2]*int(row[i])\n",
    "    else:\n",
    "        unwr += [None]*int(row[i])\n",
    "\n",
    "checksum = 0\n",
    "for i in range(len(unwr)):\n",
    "    if i >= len(unwr):\n",
    "        break\n",
    "    if unwr[i] is not None:\n",
    "        checksum += i*unwr[i]\n",
    "    else:\n",
    "        last_item = None\n",
    "        while last_item is None:\n",
    "            last_item = unwr.pop()\n",
    "        checksum += i*last_item"
   ]
  },
  {
   "cell_type": "code",
   "execution_count": 3,
   "metadata": {},
   "outputs": [
    {
     "data": {
      "text/plain": [
       "1928"
      ]
     },
     "execution_count": 3,
     "metadata": {},
     "output_type": "execute_result"
    }
   ],
   "source": [
    "checksum"
   ]
  },
  {
   "cell_type": "markdown",
   "metadata": {},
   "source": [
    "Part 2"
   ]
  },
  {
   "cell_type": "code",
   "execution_count": 4,
   "metadata": {},
   "outputs": [],
   "source": [
    "row = list(map(int, row))\n",
    "compr = []\n",
    "\n",
    "for i in range(len(row)):\n",
    "    if i%2==0:\n",
    "        compr.append((row[i], i//2))\n",
    "    else:\n",
    "        compr.append((row[i], None))\n",
    "\n",
    "j = len(row)\n",
    "incr = 0\n",
    "while j > 0:\n",
    "    j -= 1\n",
    "    if j%2 == 1:\n",
    "        continue\n",
    "    for i in range(len(compr)):\n",
    "        if i%2 == 0:\n",
    "            continue\n",
    "        else:\n",
    "            diff = compr[i][0] - compr[j+incr][0]\n",
    "            if diff >=0:\n",
    "                compr[i] = (diff, None)\n",
    "                compr.insert(i, (compr[j+incr][0], compr[j+incr][1]))\n",
    "                compr.insert(i, (0, None))\n",
    "                incr += 2\n",
    "                compr[j+incr] = (compr[j+incr][0], None)\n",
    "                break"
   ]
  },
  {
   "cell_type": "code",
   "execution_count": 5,
   "metadata": {},
   "outputs": [],
   "source": [
    "unwr = []\n",
    "for i in range(len(compr)):\n",
    "    unwr += [compr[i][1]]*compr[i][0]\n",
    "\n",
    "checksum = 0\n",
    "for i in range(len(unwr)):\n",
    "    if unwr[i] is not None:\n",
    "        checksum += i*unwr[i]"
   ]
  },
  {
   "cell_type": "code",
   "execution_count": 6,
   "metadata": {},
   "outputs": [
    {
     "data": {
      "text/plain": [
       "2858"
      ]
     },
     "execution_count": 6,
     "metadata": {},
     "output_type": "execute_result"
    }
   ],
   "source": [
    "checksum"
   ]
  },
  {
   "cell_type": "code",
   "execution_count": 7,
   "metadata": {},
   "outputs": [
    {
     "name": "stdout",
     "output_type": "stream",
     "text": [
      "00992111777.44.333....5555.6666.....8888.."
     ]
    }
   ],
   "source": [
    "for item in unwr:\n",
    "    if item is not None:\n",
    "        print(item, end=\"\")\n",
    "    else:\n",
    "        print(\".\", end=\"\")"
   ]
  },
  {
   "cell_type": "code",
   "execution_count": null,
   "metadata": {},
   "outputs": [],
   "source": []
  }
 ],
 "metadata": {
  "kernelspec": {
   "display_name": "base",
   "language": "python",
   "name": "python3"
  },
  "language_info": {
   "codemirror_mode": {
    "name": "ipython",
    "version": 3
   },
   "file_extension": ".py",
   "mimetype": "text/x-python",
   "name": "python",
   "nbconvert_exporter": "python",
   "pygments_lexer": "ipython3",
   "version": "3.9.18"
  }
 },
 "nbformat": 4,
 "nbformat_minor": 2
}
