{
 "cells": [
  {
   "cell_type": "code",
   "execution_count": 27,
   "metadata": {},
   "outputs": [],
   "source": [
    "from __future__ import annotations\n",
    "\n",
    "INPUTFILE = 'input8.txt'\n",
    "\n",
    "with open(INPUTFILE, 'r') as file:\n",
    "    input = file.read()\n",
    "\n",
    "rows = input.split('\\n')[:-1]"
   ]
  },
  {
   "cell_type": "code",
   "execution_count": 28,
   "metadata": {},
   "outputs": [],
   "source": [
    "antennas: dict[list[tuple[int]]] = {}\n",
    "for i in range(len(rows)):\n",
    "  for j in range(len(rows[i])):\n",
    "    if rows[i][j] != '.':\n",
    "      if rows[i][j] not in antennas:\n",
    "        antennas[rows[i][j]] = []\n",
    "      antennas[rows[i][j]].append((i,j))"
   ]
  },
  {
   "cell_type": "code",
   "execution_count": 29,
   "metadata": {},
   "outputs": [],
   "source": [
    "def is_in_grid(i: int, j: int) -> bool:\n",
    "  return 0 <= i < len(rows) and 0 <= j < len(rows[0])"
   ]
  },
  {
   "cell_type": "code",
   "execution_count": 30,
   "metadata": {},
   "outputs": [],
   "source": [
    "from itertools import combinations\n",
    "\n",
    "antinodes = set()\n",
    "for antenna in antennas:\n",
    "  for combo in combinations(antennas[antenna], 2):\n",
    "    x_diff = combo[0][0] - combo[1][0]\n",
    "    y_diff = combo[0][1] - combo[1][1]\n",
    "    antinode1 = (combo[0][0] + x_diff, combo[0][1] + y_diff)\n",
    "    antinode2 = (combo[1][0] - x_diff, combo[1][1] - y_diff)\n",
    "    if is_in_grid(*antinode1):\n",
    "      antinodes.add(antinode1)\n",
    "    if is_in_grid(*antinode2):\n",
    "      antinodes.add(antinode2)"
   ]
  },
  {
   "cell_type": "code",
   "execution_count": 31,
   "metadata": {},
   "outputs": [
    {
     "data": {
      "text/plain": [
       "254"
      ]
     },
     "execution_count": 31,
     "metadata": {},
     "output_type": "execute_result"
    }
   ],
   "source": [
    "len(antinodes)"
   ]
  },
  {
   "cell_type": "markdown",
   "metadata": {},
   "source": [
    "Part 2"
   ]
  },
  {
   "cell_type": "code",
   "execution_count": 32,
   "metadata": {},
   "outputs": [],
   "source": [
    "def get_all_nodes(i, j, x_diff, y_diff) -> set[tuple[int]]:\n",
    "  nodes = set()\n",
    "  while is_in_grid(i, j):\n",
    "    nodes.add((i,j))\n",
    "    i += x_diff\n",
    "    j += y_diff\n",
    "  while is_in_grid(i - x_diff, j - y_diff):\n",
    "    nodes.add((i - x_diff, j - y_diff))\n",
    "    i -= x_diff\n",
    "    j -= y_diff\n",
    "  return nodes"
   ]
  },
  {
   "cell_type": "code",
   "execution_count": 33,
   "metadata": {},
   "outputs": [],
   "source": [
    "from itertools import combinations\n",
    "\n",
    "antinodes = set()\n",
    "for antenna in antennas:\n",
    "  for combo in combinations(antennas[antenna], 2):\n",
    "    x_diff = combo[0][0] - combo[1][0]\n",
    "    y_diff = combo[0][1] - combo[1][1]\n",
    "    antinodes = antinodes.union(get_all_nodes(combo[0][0], combo[0][1], x_diff, y_diff))"
   ]
  },
  {
   "cell_type": "code",
   "execution_count": 34,
   "metadata": {},
   "outputs": [
    {
     "data": {
      "text/plain": [
       "951"
      ]
     },
     "execution_count": 34,
     "metadata": {},
     "output_type": "execute_result"
    }
   ],
   "source": [
    "len(antinodes)"
   ]
  },
  {
   "cell_type": "code",
   "execution_count": null,
   "metadata": {},
   "outputs": [],
   "source": []
  }
 ],
 "metadata": {
  "kernelspec": {
   "display_name": "base",
   "language": "python",
   "name": "python3"
  },
  "language_info": {
   "codemirror_mode": {
    "name": "ipython",
    "version": 3
   },
   "file_extension": ".py",
   "mimetype": "text/x-python",
   "name": "python",
   "nbconvert_exporter": "python",
   "pygments_lexer": "ipython3",
   "version": "3.8.8"
  }
 },
 "nbformat": 4,
 "nbformat_minor": 2
}
