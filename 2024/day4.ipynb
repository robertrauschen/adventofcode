{
 "cells": [
  {
   "cell_type": "code",
   "execution_count": 15,
   "metadata": {},
   "outputs": [],
   "source": [
    "import re\n",
    "\n",
    "INPUTFILE = 'input4.txt'\n",
    "\n",
    "with open(INPUTFILE, 'r') as file:\n",
    "    input = file.read()\n",
    "rows = (input.split(\"\\n\"))[:-1]"
   ]
  },
  {
   "cell_type": "code",
   "execution_count": 16,
   "metadata": {},
   "outputs": [],
   "source": [
    "def count_MAS(i,j) -> int:\n",
    "  count = 0\n",
    "  # horizontal\n",
    "  if j < len(rows[i])-3:\n",
    "    if rows[i][j+1:j+4] == \"MAS\":\n",
    "      count += 1\n",
    "  if j > 2:\n",
    "    if rows[i][j-3:j] == \"SAM\":\n",
    "      count += 1\n",
    "  # vertical\n",
    "  if i < len(rows)-3:\n",
    "    if rows[i+1][j] + rows[i+2][j] + rows[i+3][j] == \"MAS\":\n",
    "      count += 1\n",
    "  if i > 2:\n",
    "    if rows[i-1][j] + rows[i-2][j] + rows[i-3][j] == \"MAS\":\n",
    "      count += 1\n",
    "  # diagonal\n",
    "  if i < len(rows)-3 and j < len(rows[i])-3:\n",
    "    if rows[i+1][j+1] + rows[i+2][j+2] + rows[i+3][j+3] == \"MAS\":\n",
    "      count += 1\n",
    "  if i > 2 and j > 2:\n",
    "    if rows[i-1][j-1] + rows[i-2][j-2] + rows[i-3][j-3] == \"MAS\":\n",
    "      count += 1\n",
    "  if i < len(rows)-3 and j > 2:\n",
    "    if rows[i+1][j-1] + rows[i+2][j-2] + rows[i+3][j-3] == \"MAS\":\n",
    "      count += 1\n",
    "  if i > 2 and j < len(rows[i])-3:\n",
    "    if rows[i-1][j+1] + rows[i-2][j+2] + rows[i-3][j+3] == \"MAS\":\n",
    "      count += 1\n",
    "  return count"
   ]
  },
  {
   "cell_type": "code",
   "execution_count": 17,
   "metadata": {},
   "outputs": [
    {
     "name": "stdout",
     "output_type": "stream",
     "text": [
      "2618\n"
     ]
    }
   ],
   "source": [
    "total = 0\n",
    "for i in range(len(rows)):\n",
    "  for j in range(len(rows[0])):\n",
    "    if rows[i][j] == \"X\":\n",
    "      total += count_MAS(i,j)\n",
    "print(total)"
   ]
  },
  {
   "cell_type": "markdown",
   "metadata": {},
   "source": [
    "Part 2"
   ]
  },
  {
   "cell_type": "code",
   "execution_count": 18,
   "metadata": {},
   "outputs": [],
   "source": [
    "def check_X_MAX(i,j):\n",
    "  if (\n",
    "    rows[i-1][j-1]\n",
    "    + rows[i-1][j+1]\n",
    "    + rows[i+1][j-1]\n",
    "    + rows[i+1][j+1]\n",
    "  ) in [\"MSMS\", \"SSMM\", \"MMSS\", \"SMSM\"]:\n",
    "    return True\n"
   ]
  },
  {
   "cell_type": "code",
   "execution_count": 19,
   "metadata": {},
   "outputs": [
    {
     "name": "stdout",
     "output_type": "stream",
     "text": [
      "2011\n"
     ]
    }
   ],
   "source": [
    "total = 0\n",
    "for i in range(1,len(rows)-1):\n",
    "  for j in range(1,len(rows[0])-1):\n",
    "    if rows[i][j] == \"A\":\n",
    "      if check_X_MAX(i,j):\n",
    "        total += 1\n",
    "print(total)"
   ]
  },
  {
   "cell_type": "code",
   "execution_count": null,
   "metadata": {},
   "outputs": [],
   "source": []
  }
 ],
 "metadata": {
  "kernelspec": {
   "display_name": "xdl",
   "language": "python",
   "name": "python3"
  },
  "language_info": {
   "codemirror_mode": {
    "name": "ipython",
    "version": 3
   },
   "file_extension": ".py",
   "mimetype": "text/x-python",
   "name": "python",
   "nbconvert_exporter": "python",
   "pygments_lexer": "ipython3",
   "version": "3.9.12"
  }
 },
 "nbformat": 4,
 "nbformat_minor": 2
}
