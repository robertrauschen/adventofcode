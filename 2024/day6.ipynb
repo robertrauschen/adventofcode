{
 "cells": [
  {
   "cell_type": "code",
   "execution_count": null,
   "metadata": {},
   "outputs": [],
   "source": [
    "INPUTFILE = 'testinput6.txt'\n",
    "\n",
    "with open(INPUTFILE, 'r') as file:\n",
    "    input = file.read()\n",
    "\n",
    "rows = input.split('\\n')[:-1]"
   ]
  },
  {
   "cell_type": "code",
   "execution_count": 2,
   "metadata": {},
   "outputs": [],
   "source": [
    "import numpy as np\n",
    "rot_matrix = np.array([[0, 1], [-1, 0]])\n",
    "start_dr = np.array((-1, 0))\n",
    "for i in range(len(rows)):\n",
    "  for j in range(len(rows[i])):\n",
    "    if rows[i][j] == '^':\n",
    "      start_pos = np.array((i, j))\n",
    "      break"
   ]
  },
  {
   "cell_type": "code",
   "execution_count": 3,
   "metadata": {},
   "outputs": [],
   "source": [
    "count = 1\n",
    "dr = start_dr\n",
    "pos = start_pos\n",
    "path = [tuple(pos)]\n",
    "drs = [tuple(dr)]\n",
    "\n",
    "while True:\n",
    "  new_pos = pos + dr\n",
    "  if not(0 <= new_pos[0] < len(rows) and 0 <= new_pos[1] < len(rows[0])):\n",
    "    break\n",
    "  if rows[new_pos[0]][new_pos[1]] == '#':\n",
    "    dr = np.dot(rot_matrix, dr)\n",
    "  else:\n",
    "    pos = new_pos\n",
    "    if tuple(pos) not in path:\n",
    "      count += 1\n",
    "    path.append(tuple(pos))\n",
    "    drs.append(tuple(dr))"
   ]
  },
  {
   "cell_type": "code",
   "execution_count": 4,
   "metadata": {},
   "outputs": [
    {
     "name": "stdout",
     "output_type": "stream",
     "text": [
      "41\n"
     ]
    }
   ],
   "source": [
    "print(count)\n",
    "og_path = path"
   ]
  },
  {
   "cell_type": "markdown",
   "metadata": {},
   "source": [
    "Part 2"
   ]
  },
  {
   "cell_type": "code",
   "execution_count": 6,
   "metadata": {},
   "outputs": [],
   "source": [
    "count = 0\n",
    "obs_positions = set()\n",
    "for obs in set(og_path):\n",
    "  new_rows = np.array([list(row) for row in rows])\n",
    "  new_rows[obs[0]][obs[1]] = '#'\n",
    "\n",
    "  dr = start_dr\n",
    "  pos = start_pos\n",
    "  path = [tuple(pos)]\n",
    "  drs = [tuple(dr)]\n",
    "\n",
    "  while True:\n",
    "    new_pos = pos + dr\n",
    "    if tuple(new_pos) in path:\n",
    "      last_index = len(path) - 1 - path[::-1].index(tuple(new_pos))\n",
    "      if drs[last_index] == tuple(dr):\n",
    "        count += 1\n",
    "        obs_positions.add(obs)\n",
    "        break\n",
    "    if not(0 <= new_pos[0] < len(new_rows) and 0 <= new_pos[1] < len(new_rows[0])):\n",
    "      break\n",
    "    if new_rows[new_pos[0]][new_pos[1]] == '#':\n",
    "      dr = np.dot(rot_matrix, dr)\n",
    "    else:\n",
    "      pos = new_pos\n",
    "      path.append(tuple(pos))\n",
    "      drs.append(tuple(dr))"
   ]
  },
  {
   "cell_type": "code",
   "execution_count": 7,
   "metadata": {},
   "outputs": [
    {
     "name": "stdout",
     "output_type": "stream",
     "text": [
      "6\n"
     ]
    }
   ],
   "source": [
    "print(count)"
   ]
  },
  {
   "cell_type": "code",
   "execution_count": null,
   "metadata": {},
   "outputs": [],
   "source": []
  }
 ],
 "metadata": {
  "kernelspec": {
   "display_name": "base",
   "language": "python",
   "name": "python3"
  },
  "language_info": {
   "codemirror_mode": {
    "name": "ipython",
    "version": 3
   },
   "file_extension": ".py",
   "mimetype": "text/x-python",
   "name": "python",
   "nbconvert_exporter": "python",
   "pygments_lexer": "ipython3",
   "version": "3.8.8"
  }
 },
 "nbformat": 4,
 "nbformat_minor": 2
}
