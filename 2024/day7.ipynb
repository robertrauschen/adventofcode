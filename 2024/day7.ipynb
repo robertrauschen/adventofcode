{
 "cells": [
  {
   "cell_type": "code",
   "execution_count": null,
   "metadata": {},
   "outputs": [],
   "source": [
    "INPUTFILE = 'input7.txt'\n",
    "\n",
    "with open(INPUTFILE, 'r') as file:\n",
    "    input = file.read()\n",
    "\n",
    "rows = input.split('\\n')[:-1]"
   ]
  },
  {
   "cell_type": "code",
   "execution_count": null,
   "metadata": {},
   "outputs": [],
   "source": [
    "from itertools import product"
   ]
  },
  {
   "cell_type": "code",
   "execution_count": null,
   "metadata": {},
   "outputs": [],
   "source": [
    "total = 0\n",
    "for row in rows:\n",
    "  split = row.split(': ')\n",
    "  value = int(split[0])\n",
    "  numbers = list(map(int, split[1].split(' ')))\n",
    "  operators = product([0,1], repeat=len(numbers)-1)\n",
    "  for op in operators:\n",
    "    result = numbers[0]\n",
    "    for i in range(1, len(numbers)):\n",
    "      if op[i-1] == 0:\n",
    "        result += numbers[i]\n",
    "      else:\n",
    "        result *= numbers[i]\n",
    "      if result > value:\n",
    "        break\n",
    "    if result == value:\n",
    "      total += value\n",
    "      break    "
   ]
  },
  {
   "cell_type": "code",
   "execution_count": null,
   "metadata": {},
   "outputs": [],
   "source": [
    "print(total)"
   ]
  },
  {
   "cell_type": "markdown",
   "metadata": {},
   "source": [
    "Part 2"
   ]
  },
  {
   "cell_type": "code",
   "execution_count": null,
   "metadata": {},
   "outputs": [],
   "source": [
    "total = 0\n",
    "for row in rows:\n",
    "  split = row.split(': ')\n",
    "  value = int(split[0])\n",
    "  numbers = list(map(int, split[1].split(' ')))\n",
    "  operators = product([0,1,2], repeat=len(numbers)-1)\n",
    "  for op in operators:\n",
    "    result = numbers[0]\n",
    "    for i in range(1, len(numbers)):\n",
    "      if op[i-1] == 0:\n",
    "        result += numbers[i]\n",
    "      elif op[i-1] == 1:\n",
    "        result *= numbers[i]\n",
    "      else:\n",
    "        result = int(str(result) + str(numbers[i]))\n",
    "      if result > value:\n",
    "        break\n",
    "    if result == value:\n",
    "      total += value\n",
    "      break    "
   ]
  },
  {
   "cell_type": "code",
   "execution_count": null,
   "metadata": {},
   "outputs": [],
   "source": [
    "total"
   ]
  },
  {
   "cell_type": "markdown",
   "metadata": {},
   "source": [
    "answer: 223472064194845"
   ]
  },
  {
   "cell_type": "code",
   "execution_count": null,
   "metadata": {},
   "outputs": [],
   "source": []
  }
 ],
 "metadata": {
  "kernelspec": {
   "display_name": "base",
   "language": "python",
   "name": "python3"
  },
  "language_info": {
   "codemirror_mode": {
    "name": "ipython",
    "version": 3
   },
   "file_extension": ".py",
   "mimetype": "text/x-python",
   "name": "python",
   "nbconvert_exporter": "python",
   "pygments_lexer": "ipython3",
   "version": "3.8.8"
  }
 },
 "nbformat": 4,
 "nbformat_minor": 2
}
