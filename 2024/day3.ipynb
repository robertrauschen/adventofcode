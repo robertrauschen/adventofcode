{
 "cells": [
  {
   "cell_type": "code",
   "execution_count": 1,
   "metadata": {},
   "outputs": [],
   "source": [
    "import re\n",
    "\n",
    "INPUTFILE = 'input3.txt'\n",
    "\n",
    "with open(INPUTFILE, 'r') as file:\n",
    "    input = file.read()\n",
    "rows = (input.split(\"\\n\"))[:-1]"
   ]
  },
  {
   "cell_type": "code",
   "execution_count": 2,
   "metadata": {},
   "outputs": [
    {
     "name": "stdout",
     "output_type": "stream",
     "text": [
      "190604937\n"
     ]
    }
   ],
   "source": [
    "total = 0\n",
    "for row in rows:\n",
    "    valid_operations = re.findall(r'mul\\((\\d+),(\\d+)\\)', row)\n",
    "    for operation in valid_operations:\n",
    "        total += int(operation[0]) * int(operation[1])\n",
    "print(total)"
   ]
  },
  {
   "cell_type": "markdown",
   "metadata": {},
   "source": [
    "Part 2"
   ]
  },
  {
   "cell_type": "code",
   "execution_count": 3,
   "metadata": {},
   "outputs": [],
   "source": [
    "total = 0\n",
    "for row in rows:\n",
    "  dos = row.split(\"do()\")\n",
    "  for do in dos:\n",
    "    onlydo = do.split(\"don't()\")[0]\n",
    "    valid_operations = re.findall(r'mul\\((\\d+),(\\d+)\\)', onlydo)\n",
    "    for operation in valid_operations:\n",
    "        total += int(operation[0]) * int(operation[1])"
   ]
  },
  {
   "cell_type": "code",
   "execution_count": 4,
   "metadata": {},
   "outputs": [
    {
     "name": "stdout",
     "output_type": "stream",
     "text": [
      "87020895\n"
     ]
    }
   ],
   "source": [
    "print(total)"
   ]
  },
  {
   "cell_type": "code",
   "execution_count": 14,
   "metadata": {},
   "outputs": [
    {
     "name": "stdout",
     "output_type": "stream",
     "text": [
      "82857512\n"
     ]
    }
   ],
   "source": [
    "import re\n",
    "\n",
    "# Initialize total and state for `mul` operations\n",
    "total = 0\n",
    "mul_enabled = True  # Start with mul enabled\n",
    "\n",
    "# Input string\n",
    "program = \"xmul(2,4)&mul[3,7]!^don't()_mul(5,5)+mul(32,64](mul(11,8)undo()?mul(8,5))\"\n",
    "\n",
    "for program in rows:\n",
    "    # Process each character in the program\n",
    "    i = 0\n",
    "    while i < len(program):\n",
    "        if program[i:i+4] == \"do()\":\n",
    "            # Enable mul instructions\n",
    "            mul_enabled = True\n",
    "            i += 4        \n",
    "        elif program[i:i+7] == \"don't()\":\n",
    "            # Disable mul instructions\n",
    "            mul_enabled = False\n",
    "            i += 7        \n",
    "        elif program[i:i+3] == \"mul\":\n",
    "            # Find the arguments of the mul instruction\n",
    "            match = re.match(r\"mul\\((\\d+),(\\d+)\\)\", program[i:])\n",
    "            if match and mul_enabled:\n",
    "                # Perform the multiplication if mul is enabled\n",
    "                num1, num2 = int(match.group(1)), int(match.group(2))\n",
    "                total += num1 * num2\n",
    "                i += len(match.group(0))  # Move the index past the mul instruction\n",
    "            else:\n",
    "                i += 3  # Skip over 'mul' if it's not followed by a valid operation\n",
    "        else:\n",
    "            # Move to the next character\n",
    "            i += 1\n",
    "\n",
    "print(total)\n"
   ]
  },
  {
   "cell_type": "code",
   "execution_count": null,
   "metadata": {},
   "outputs": [],
   "source": []
  }
 ],
 "metadata": {
  "kernelspec": {
   "display_name": "xdl",
   "language": "python",
   "name": "python3"
  },
  "language_info": {
   "codemirror_mode": {
    "name": "ipython",
    "version": 3
   },
   "file_extension": ".py",
   "mimetype": "text/x-python",
   "name": "python",
   "nbconvert_exporter": "python",
   "pygments_lexer": "ipython3",
   "version": "3.9.12"
  }
 },
 "nbformat": 4,
 "nbformat_minor": 2
}
