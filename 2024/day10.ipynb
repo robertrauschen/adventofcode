{
 "cells": [
  {
   "cell_type": "code",
   "execution_count": null,
   "metadata": {},
   "outputs": [],
   "source": [
    "from __future__ import annotations\n",
    "\n",
    "INPUTFILE = 'input10.txt'\n",
    "\n",
    "with open(INPUTFILE, 'r') as file:\n",
    "    input = file.read()\n",
    "\n",
    "rows = input.split('\\n')[:-1]"
   ]
  },
  {
   "cell_type": "code",
   "execution_count": null,
   "metadata": {},
   "outputs": [],
   "source": [
    "trailheads = []\n",
    "for i in range(len(rows)):\n",
    "    for j in range(len(rows[i])):\n",
    "        if rows[i][j] == '0':\n",
    "            trailheads.append((i,j))"
   ]
  },
  {
   "cell_type": "code",
   "execution_count": null,
   "metadata": {},
   "outputs": [],
   "source": [
    "import collections\n",
    "\n",
    "\n",
    "def bfs(grid:list[str], start:tuple, goal:str) -> tuple[int, list]:\n",
    "    score = 0\n",
    "    trails = []\n",
    "    width = len(grid)\n",
    "    height = len(grid[0])\n",
    "    queue = collections.deque([[start]])\n",
    "    seen = set([start])\n",
    "    while queue:\n",
    "        path = queue.popleft()\n",
    "        x, y = path[-1]\n",
    "        if grid[x][y] == goal:\n",
    "            score += 1\n",
    "            trails.append(path)\n",
    "        for x2, y2 in ((x+1,y), (x-1,y), (x,y+1), (x,y-1)):\n",
    "            if 0 <= x2 < width and 0 <= y2 < height and int(grid[x2][y2]) == int(grid[x][y]) + 1 and (x2, y2) not in seen:\n",
    "                queue.append(path + [(x2, y2)])\n",
    "                seen.add((x2, y2))\n",
    "    return (score, trails)"
   ]
  },
  {
   "cell_type": "code",
   "execution_count": null,
   "metadata": {},
   "outputs": [],
   "source": [
    "total_score = 0\n",
    "for trailhead in trailheads:\n",
    "    total_score += bfs(rows, trailhead, '9')[0]"
   ]
  },
  {
   "cell_type": "code",
   "execution_count": null,
   "metadata": {},
   "outputs": [],
   "source": [
    "print(total_score)"
   ]
  },
  {
   "cell_type": "code",
   "execution_count": null,
   "metadata": {},
   "outputs": [],
   "source": [
    "# for i in range(len(rows)):\n",
    "#     for j in range(len(rows[i])):\n",
    "#         if (i,j) in res[1][0]:\n",
    "#             print(rows[i][j], end=\"\")\n",
    "#         else:\n",
    "#             print(\".\", end=\"\")\n",
    "#     print(\"\")"
   ]
  },
  {
   "cell_type": "markdown",
   "metadata": {},
   "source": [
    "Part 2"
   ]
  },
  {
   "cell_type": "code",
   "execution_count": null,
   "metadata": {},
   "outputs": [],
   "source": [
    "import collections\n",
    "\n",
    "\n",
    "def bfs(grid:list[str], start:tuple, goal:str) -> tuple[int, list]:\n",
    "    score = 0\n",
    "    trails = []\n",
    "    width = len(grid)\n",
    "    height = len(grid[0])\n",
    "    queue = collections.deque([[start]])\n",
    "    while queue:\n",
    "        path = queue.popleft()\n",
    "        x, y = path[-1]\n",
    "        if grid[x][y] == goal:\n",
    "            score += 1\n",
    "            trails.append(path)\n",
    "        for x2, y2 in ((x+1,y), (x-1,y), (x,y+1), (x,y-1)):\n",
    "            if 0 <= x2 < width and 0 <= y2 < height and int(grid[x2][y2]) == int(grid[x][y]) + 1:\n",
    "                queue.append(path + [(x2, y2)])\n",
    "    return (score, trails)"
   ]
  },
  {
   "cell_type": "code",
   "execution_count": null,
   "metadata": {},
   "outputs": [],
   "source": [
    "total_score = 0\n",
    "for trailhead in trailheads:\n",
    "    total_score += bfs(rows, trailhead, '9')[0]"
   ]
  },
  {
   "cell_type": "code",
   "execution_count": null,
   "metadata": {},
   "outputs": [],
   "source": [
    "print(total_score)"
   ]
  },
  {
   "cell_type": "code",
   "execution_count": null,
   "metadata": {},
   "outputs": [],
   "source": []
  }
 ],
 "metadata": {
  "kernelspec": {
   "display_name": "base",
   "language": "python",
   "name": "python3"
  },
  "language_info": {
   "codemirror_mode": {
    "name": "ipython",
    "version": 3
   },
   "file_extension": ".py",
   "mimetype": "text/x-python",
   "name": "python",
   "nbconvert_exporter": "python",
   "pygments_lexer": "ipython3",
   "version": "3.9.18"
  }
 },
 "nbformat": 4,
 "nbformat_minor": 2
}
