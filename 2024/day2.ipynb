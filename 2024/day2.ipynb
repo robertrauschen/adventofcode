{
 "cells": [
  {
   "cell_type": "code",
   "execution_count": 23,
   "metadata": {},
   "outputs": [],
   "source": [
    "import re\n",
    "\n",
    "INPUTFILE = 'input2.txt'\n",
    "\n",
    "with open(INPUTFILE, 'r') as file:\n",
    "    input = file.read()\n",
    "rows = (input.split(\"\\n\"))[:-1]"
   ]
  },
  {
   "cell_type": "code",
   "execution_count": 24,
   "metadata": {},
   "outputs": [],
   "source": [
    "def sequence_safe(numbers:list[int]) -> tuple[bool, int]:\n",
    "  increasing = False\n",
    "  decreasing = False\n",
    "  unsafe = False\n",
    "  for i in range(len(numbers)-1):\n",
    "    if numbers[i] < numbers[i+1]:\n",
    "      if decreasing:\n",
    "        unsafe = True\n",
    "        break\n",
    "      else:\n",
    "        increasing = True\n",
    "    elif numbers[i] > numbers[i+1]:\n",
    "      if increasing:\n",
    "        unsafe = True\n",
    "        break\n",
    "      else:\n",
    "        decreasing = True\n",
    "    if abs(numbers[i] - numbers[i+1]) > 3 or numbers[i] == numbers[i+1]:\n",
    "      unsafe = True\n",
    "      break\n",
    "  return (not unsafe, i)"
   ]
  },
  {
   "cell_type": "code",
   "execution_count": 25,
   "metadata": {},
   "outputs": [],
   "source": [
    "safe = 0\n",
    "for row in rows:\n",
    "  numbers = [int(x) for x in row.split(\" \")]\n",
    "  safe += sequence_safe(numbers)[0]"
   ]
  },
  {
   "cell_type": "code",
   "execution_count": 26,
   "metadata": {},
   "outputs": [
    {
     "name": "stdout",
     "output_type": "stream",
     "text": [
      "356\n"
     ]
    }
   ],
   "source": [
    "print(safe)"
   ]
  },
  {
   "cell_type": "markdown",
   "metadata": {},
   "source": [
    "Part 2"
   ]
  },
  {
   "cell_type": "code",
   "execution_count": 27,
   "metadata": {},
   "outputs": [],
   "source": [
    "from copy import deepcopy\n",
    "\n",
    "safe = 0\n",
    "good_rows = []\n",
    "counter = 0\n",
    "for row in rows:\n",
    "  numbers = [int(x) for x in row.split(\" \")]\n",
    "  result, i = sequence_safe(numbers)\n",
    "  if result:\n",
    "    safe += 1\n",
    "  else:\n",
    "    backup = deepcopy(numbers)\n",
    "    removed_num = numbers.pop(i)\n",
    "    removed_back = backup.pop(i+1)\n",
    "    if sequence_safe(numbers)[0]:\n",
    "      result = True\n",
    "      safe += 1\n",
    "    elif sequence_safe(backup)[0]:\n",
    "      result = True\n",
    "      safe += 1\n",
    "  if result:\n",
    "    good_rows.append(counter)\n",
    "  counter += 1"
   ]
  },
  {
   "cell_type": "code",
   "execution_count": 28,
   "metadata": {},
   "outputs": [
    {
     "name": "stdout",
     "output_type": "stream",
     "text": [
      "409\n"
     ]
    }
   ],
   "source": [
    "print(safe)"
   ]
  },
  {
   "cell_type": "code",
   "execution_count": 22,
   "metadata": {},
   "outputs": [
    {
     "name": "stdout",
     "output_type": "stream",
     "text": [
      "413\n"
     ]
    }
   ],
   "source": [
    "with open(\"input2.txt\") as f:\n",
    "    reports = [list(map(int, line.split())) for line in f]\n",
    "\n",
    "\n",
    "def is_safe(report: list, ignore_idx: int) -> bool:\n",
    "    desc, asc, prev = False, False, None\n",
    "\n",
    "    for idx, level in enumerate(report):\n",
    "        if idx == ignore_idx:\n",
    "            continue\n",
    "\n",
    "        if not prev:\n",
    "            prev = level\n",
    "            continue\n",
    "\n",
    "        if prev < level:\n",
    "            asc = True\n",
    "        elif prev > level:\n",
    "            desc = True\n",
    "\n",
    "        if (prev == level) or abs(prev - level) > 3 or (asc and desc):\n",
    "            return False\n",
    "\n",
    "        prev = level\n",
    "    return True\n",
    "\n",
    "\n",
    "print(sum(any(is_safe(report, i) for i in range(len(report))) for report in reports))"
   ]
  },
  {
   "cell_type": "code",
   "execution_count": null,
   "metadata": {},
   "outputs": [],
   "source": []
  }
 ],
 "metadata": {
  "kernelspec": {
   "display_name": "xdl",
   "language": "python",
   "name": "python3"
  },
  "language_info": {
   "codemirror_mode": {
    "name": "ipython",
    "version": 3
   },
   "file_extension": ".py",
   "mimetype": "text/x-python",
   "name": "python",
   "nbconvert_exporter": "python",
   "pygments_lexer": "ipython3",
   "version": "3.9.12"
  }
 },
 "nbformat": 4,
 "nbformat_minor": 2
}
