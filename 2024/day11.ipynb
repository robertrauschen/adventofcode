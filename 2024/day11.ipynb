{
 "cells": [
  {
   "cell_type": "code",
   "execution_count": 50,
   "metadata": {},
   "outputs": [],
   "source": [
    "from __future__ import annotations\n",
    "\n",
    "INPUTFILE = 'input11.txt'\n",
    "\n",
    "with open(INPUTFILE, 'r') as file:\n",
    "    input = file.read()\n",
    "\n",
    "row = input.split('\\n')[0]"
   ]
  },
  {
   "cell_type": "code",
   "execution_count": 51,
   "metadata": {},
   "outputs": [],
   "source": [
    "numbers = row.split(' ')\n",
    "for _ in range(25):\n",
    "    new_numbers = []\n",
    "    for number in numbers:\n",
    "        if number == '0':\n",
    "            new_numbers.append('1')\n",
    "        elif len(number) % 2 == 0:\n",
    "            new_numbers.append(number[:len(number)//2])\n",
    "            new_numbers.append(str(int(number[len(number)//2:])))\n",
    "        else:\n",
    "            new_numbers.append(str(int(number)*2024))\n",
    "    numbers = new_numbers"
   ]
  },
  {
   "cell_type": "code",
   "execution_count": 52,
   "metadata": {},
   "outputs": [
    {
     "data": {
      "text/plain": [
       "185894"
      ]
     },
     "execution_count": 52,
     "metadata": {},
     "output_type": "execute_result"
    }
   ],
   "source": [
    "len(new_numbers)"
   ]
  },
  {
   "cell_type": "code",
   "execution_count": 53,
   "metadata": {},
   "outputs": [],
   "source": [
    "def add_entry(growing_dict, entry, count):\n",
    "    if entry in growing_dict:\n",
    "        growing_dict[entry] += count\n",
    "    else:\n",
    "        growing_dict[entry] = count"
   ]
  },
  {
   "cell_type": "code",
   "execution_count": 56,
   "metadata": {},
   "outputs": [],
   "source": [
    "numbers = row.split(' ')\n",
    "number_dict = {number: 1 for number in numbers}\n",
    "for _ in range(75):\n",
    "    new_dict = {}\n",
    "    for number in number_dict:\n",
    "        count = number_dict[number]\n",
    "        if number == '0':\n",
    "            add_entry(new_dict, '1', count)\n",
    "        elif len(number) % 2 == 0:\n",
    "            add_entry(new_dict, number[:len(number)//2], count)\n",
    "            add_entry(new_dict, str(int(number[len(number)//2:])), count)\n",
    "        else:\n",
    "            add_entry(new_dict, str(int(number)*2024), count)\n",
    "    number_dict = new_dict"
   ]
  },
  {
   "cell_type": "code",
   "execution_count": 57,
   "metadata": {},
   "outputs": [
    {
     "name": "stdout",
     "output_type": "stream",
     "text": [
      "221632504974231\n"
     ]
    }
   ],
   "source": [
    "total = 0\n",
    "for number in number_dict:\n",
    "    total += number_dict[number]\n",
    "print(total)"
   ]
  },
  {
   "cell_type": "code",
   "execution_count": null,
   "metadata": {},
   "outputs": [],
   "source": []
  }
 ],
 "metadata": {
  "kernelspec": {
   "display_name": "base",
   "language": "python",
   "name": "python3"
  },
  "language_info": {
   "codemirror_mode": {
    "name": "ipython",
    "version": 3
   },
   "file_extension": ".py",
   "mimetype": "text/x-python",
   "name": "python",
   "nbconvert_exporter": "python",
   "pygments_lexer": "ipython3",
   "version": "3.9.18"
  }
 },
 "nbformat": 4,
 "nbformat_minor": 2
}
