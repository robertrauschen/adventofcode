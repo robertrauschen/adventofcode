{
 "cells": [
  {
   "cell_type": "code",
   "execution_count": 58,
   "metadata": {},
   "outputs": [],
   "source": [
    "import re\n",
    "\n",
    "INPUTFILE = 'input5.txt'\n",
    "\n",
    "with open(INPUTFILE, 'r') as file:\n",
    "    input = file.read()\n",
    "batches = input.split('\\n\\n')\n",
    "rules = batches[0].split('\\n')\n",
    "numbers = batches[1].split('\\n')[:-1]"
   ]
  },
  {
   "cell_type": "code",
   "execution_count": 59,
   "metadata": {},
   "outputs": [],
   "source": [
    "rule_tuples = []\n",
    "for rule in rules:\n",
    "    rule_tuples.append(tuple(map(int, rule.split('|'))))"
   ]
  },
  {
   "cell_type": "code",
   "execution_count": 60,
   "metadata": {},
   "outputs": [],
   "source": [
    "number_lists = []\n",
    "for line in numbers:\n",
    "    number_lists.append(list(map(int, line.split(','))))"
   ]
  },
  {
   "cell_type": "code",
   "execution_count": 61,
   "metadata": {},
   "outputs": [],
   "source": [
    "def check_rule(rule:tuple, numbers:list) -> bool:\n",
    "  if rule[0] not in numbers or rule[1] not in numbers:\n",
    "    return True\n",
    "  if numbers.index(rule[0]) < numbers.index(rule[1]):\n",
    "    return True"
   ]
  },
  {
   "cell_type": "code",
   "execution_count": 62,
   "metadata": {},
   "outputs": [
    {
     "name": "stdout",
     "output_type": "stream",
     "text": [
      "7365\n"
     ]
    }
   ],
   "source": [
    "total = 0\n",
    "for number_list in number_lists:\n",
    "  if all(check_rule(rule, number_list) for rule in rule_tuples):\n",
    "    total += number_list[len(number_list)//2]\n",
    "print(total)"
   ]
  },
  {
   "cell_type": "markdown",
   "metadata": {},
   "source": [
    "Part 2"
   ]
  },
  {
   "cell_type": "code",
   "execution_count": 63,
   "metadata": {},
   "outputs": [],
   "source": [
    "# remove lists that are correctly ordered\n",
    "for number_list in number_lists[:]:\n",
    "  if all(check_rule(rule, number_list) for rule in rule_tuples):\n",
    "    number_lists.remove(number_list)"
   ]
  },
  {
   "cell_type": "code",
   "execution_count": 64,
   "metadata": {},
   "outputs": [],
   "source": [
    "def apply_rule(rule:tuple, numbers:list) -> list:\n",
    "  if rule[0] not in numbers or rule[1] not in numbers:\n",
    "    return numbers\n",
    "  index_1 = numbers.index(rule[0])\n",
    "  index_2 = numbers.index(rule[1])\n",
    "  if index_1 < index_2:\n",
    "    return numbers\n",
    "  else:\n",
    "    numbers.insert(index_1, numbers.pop(index_2))\n",
    "    return numbers"
   ]
  },
  {
   "cell_type": "code",
   "execution_count": 65,
   "metadata": {},
   "outputs": [
    {
     "name": "stdout",
     "output_type": "stream",
     "text": [
      "5770\n"
     ]
    }
   ],
   "source": [
    "total = 0\n",
    "for number_list in number_lists:\n",
    "  while not all(check_rule(rule, number_list) for rule in rule_tuples):\n",
    "    for rule in rule_tuples:\n",
    "      number_list = apply_rule(rule, number_list)\n",
    "  total += number_list[len(number_list)//2]\n",
    "print(total)"
   ]
  },
  {
   "cell_type": "code",
   "execution_count": null,
   "metadata": {},
   "outputs": [],
   "source": []
  }
 ],
 "metadata": {
  "kernelspec": {
   "display_name": "xdl",
   "language": "python",
   "name": "python3"
  },
  "language_info": {
   "codemirror_mode": {
    "name": "ipython",
    "version": 3
   },
   "file_extension": ".py",
   "mimetype": "text/x-python",
   "name": "python",
   "nbconvert_exporter": "python",
   "pygments_lexer": "ipython3",
   "version": "3.9.12"
  }
 },
 "nbformat": 4,
 "nbformat_minor": 2
}
