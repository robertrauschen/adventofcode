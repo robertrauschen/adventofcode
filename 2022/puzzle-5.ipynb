{
 "cells": [
  {
   "cell_type": "code",
   "execution_count": 1,
   "metadata": {},
   "outputs": [],
   "source": [
    "INPUTFILE = 'input-5.txt'\n",
    "\n",
    "with open(INPUTFILE, 'r') as file:\n",
    "    input = file.read()\n",
    "start_deck_input = input.split(\"\\n\\n\")[0].split(\"\\n\")\n",
    "procedure_input = input.split(\"\\n\\n\")[1].split(\"\\n\")"
   ]
  },
  {
   "cell_type": "code",
   "execution_count": 2,
   "metadata": {},
   "outputs": [],
   "source": [
    "start_deck_input.reverse()"
   ]
  },
  {
   "cell_type": "code",
   "execution_count": 3,
   "metadata": {},
   "outputs": [],
   "source": [
    "deck = []\n",
    "max_height = len(start_deck_input)\n",
    "for i in range(len(start_deck_input[0])):\n",
    "  if start_deck_input[0][i] != \" \":\n",
    "    stack = []\n",
    "    for level in start_deck_input:\n",
    "      if level[i] != \" \":\n",
    "        stack.append(level[i])\n",
    "    deck.append(stack)"
   ]
  },
  {
   "cell_type": "markdown",
   "metadata": {},
   "source": [
    "Rearrangement with LIFO order"
   ]
  },
  {
   "cell_type": "code",
   "execution_count": 4,
   "metadata": {},
   "outputs": [],
   "source": [
    "for command_input in procedure_input:\n",
    "  command = command_input.split(\" \")\n",
    "  amount = int(command[1])\n",
    "  src_index = int(command[3]) - 1\n",
    "  dest_index = int(command[5]) - 1\n",
    "  for _ in range(amount):\n",
    "    deck[dest_index].append(deck[src_index].pop())"
   ]
  },
  {
   "cell_type": "code",
   "execution_count": 5,
   "metadata": {},
   "outputs": [],
   "source": [
    "top_state = \"\"\n",
    "for stack in deck:\n",
    "  top_state += stack[-1]"
   ]
  },
  {
   "cell_type": "code",
   "execution_count": 6,
   "metadata": {},
   "outputs": [
    {
     "data": {
      "text/plain": [
       "'TGWSMRBPN'"
      ]
     },
     "execution_count": 6,
     "metadata": {},
     "output_type": "execute_result"
    }
   ],
   "source": [
    "top_state"
   ]
  },
  {
   "cell_type": "markdown",
   "metadata": {},
   "source": [
    "Rearrangement with moving multiple crates at once"
   ]
  },
  {
   "cell_type": "code",
   "execution_count": 124,
   "metadata": {},
   "outputs": [],
   "source": [
    "for command_input in procedure_input:\n",
    "  command = command_input.split(\" \")\n",
    "  amount = int(command[1])\n",
    "  src_index = int(command[3]) - 1\n",
    "  dest_index = int(command[5]) - 1\n",
    "  moved_crates = []\n",
    "  for _ in range(amount):\n",
    "    moved_crates.append(deck[src_index].pop())\n",
    "  moved_crates.reverse()\n",
    "  deck[dest_index] += (moved_crates)"
   ]
  },
  {
   "cell_type": "code",
   "execution_count": 125,
   "metadata": {},
   "outputs": [],
   "source": [
    "top_state = \"\"\n",
    "for stack in deck:\n",
    "  top_state += stack[-1]"
   ]
  },
  {
   "cell_type": "code",
   "execution_count": 126,
   "metadata": {},
   "outputs": [
    {
     "data": {
      "text/plain": [
       "'TZLTLWRNF'"
      ]
     },
     "execution_count": 126,
     "metadata": {},
     "output_type": "execute_result"
    }
   ],
   "source": [
    "top_state"
   ]
  },
  {
   "cell_type": "code",
   "execution_count": null,
   "metadata": {},
   "outputs": [],
   "source": []
  }
 ],
 "metadata": {
  "kernelspec": {
   "display_name": "Python 3.8.8 ('base')",
   "language": "python",
   "name": "python3"
  },
  "language_info": {
   "codemirror_mode": {
    "name": "ipython",
    "version": 3
   },
   "file_extension": ".py",
   "mimetype": "text/x-python",
   "name": "python",
   "nbconvert_exporter": "python",
   "pygments_lexer": "ipython3",
   "version": "3.8.8"
  },
  "orig_nbformat": 4,
  "vscode": {
   "interpreter": {
    "hash": "740329b21a1252e1c253d583311b6d3f7744168cabc7e2151c4ba7a007513518"
   }
  }
 },
 "nbformat": 4,
 "nbformat_minor": 2
}
