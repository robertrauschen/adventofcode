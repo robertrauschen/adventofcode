{
 "cells": [
  {
   "cell_type": "code",
   "execution_count": 1,
   "metadata": {},
   "outputs": [],
   "source": [
    "INPUTFILE = 'input-7-test.txt'\n",
    "\n",
    "with open(INPUTFILE, 'r') as file:\n",
    "    input = file.read()\n",
    "rows = input.split(\"\\n\")"
   ]
  },
  {
   "cell_type": "code",
   "execution_count": 2,
   "metadata": {},
   "outputs": [
    {
     "name": "stdout",
     "output_type": "stream",
     "text": [
      "48381621\n"
     ]
    }
   ],
   "source": [
    "stupid_size = 0\n",
    "for row in rows:\n",
    "  command = row.split(\" \")\n",
    "  if command[0].isnumeric():\n",
    "    stupid_size += int(command[0])\n",
    "\n",
    "print(stupid_size)"
   ]
  },
  {
   "cell_type": "code",
   "execution_count": 3,
   "metadata": {},
   "outputs": [],
   "source": [
    "from functools import reduce  # forward compatibility for Python 3\n",
    "import operator\n",
    "from pprint import pprint\n",
    "\n",
    "def getFromDict(dataDict, mapList):\n",
    "    return reduce(operator.getitem, mapList, dataDict)\n",
    "\n",
    "def setInDict(dataDict, mapList, value):\n",
    "    getFromDict(dataDict, mapList[:-1])[mapList[-1]] = value"
   ]
  },
  {
   "cell_type": "code",
   "execution_count": 4,
   "metadata": {},
   "outputs": [],
   "source": [
    "system = {\"/\" : {}}\n",
    "current_dir = []\n",
    "#history_of_cwd = []\n",
    "for row in rows:\n",
    "  command = row.split(\" \")\n",
    "  if command[0] == \"$\":\n",
    "    if command[1] == \"cd\":\n",
    "      if command[2] == \"..\":\n",
    "        current_dir.pop()\n",
    "      else:\n",
    "        current_dir.append(command[2])\n",
    "    elif command[1] == \"ls\":\n",
    "      pass\n",
    "    else:\n",
    "      print(f\"problem: unprocessed command {command}\")\n",
    "  else:\n",
    "    if command[0] == \"dir\":\n",
    "      #if any(map(str.isdigit, command[1])):\n",
    "      #  print(f\"problem: digit in dir name {command}\")\n",
    "      setInDict(dataDict=system, mapList=current_dir + [command[1]], value= {})\n",
    "    elif command[0].isnumeric():\n",
    "      setInDict(dataDict=system, mapList=current_dir + [command[1]], value=command[0])\n",
    "    else:\n",
    "      print(f\"problem: unprocessed line {command}\")\n"
   ]
  },
  {
   "cell_type": "code",
   "execution_count": 6,
   "metadata": {},
   "outputs": [
    {
     "data": {
      "text/plain": [
       "{'/': {'a': {'e': {'i': '584', 'asdf': '456'},\n",
       "   'f': '29116',\n",
       "   'g': '2557',\n",
       "   'h.lst': '62596'},\n",
       "  'b.txt': '14848514',\n",
       "  'c.dat': '8504156',\n",
       "  'd': {'j': '4060174',\n",
       "   'd.log': '8033020',\n",
       "   'd.ext': '5626152',\n",
       "   'k': '7214296'}}}"
      ]
     },
     "execution_count": 6,
     "metadata": {},
     "output_type": "execute_result"
    }
   ],
   "source": [
    "system"
   ]
  },
  {
   "cell_type": "code",
   "execution_count": 7,
   "metadata": {},
   "outputs": [],
   "source": [
    "def dict_size(dataDict):\n",
    "  total_size = 0\n",
    "  for key in dataDict:\n",
    "    if type(dataDict[key]) == dict:\n",
    "      total_size += dict_size(dataDict=dataDict[key])\n",
    "    else:\n",
    "      total_size += int(dataDict[key])\n",
    "  return total_size"
   ]
  },
  {
   "cell_type": "code",
   "execution_count": 8,
   "metadata": {},
   "outputs": [
    {
     "data": {
      "text/plain": [
       "48381621"
      ]
     },
     "execution_count": 8,
     "metadata": {},
     "output_type": "execute_result"
    }
   ],
   "source": [
    "dict_size(system)"
   ]
  },
  {
   "cell_type": "code",
   "execution_count": 10,
   "metadata": {},
   "outputs": [],
   "source": [
    "def add_dict_size(dataDict, dir_sizes: dict, path: str = \"\"):\n",
    "  for key in dataDict:\n",
    "    if type(dataDict[key]) == dict:\n",
    "      path += key\n",
    "      if key in dir_sizes:\n",
    "        print(f\"problem: dirname {path} already exists\")\n",
    "      dir_sizes[path] = dict_size(dataDict[key])\n",
    "      add_dict_size(dataDict=dataDict[key], dir_sizes=dir_sizes, path=path)\n",
    "  return dir_sizes"
   ]
  },
  {
   "cell_type": "code",
   "execution_count": 11,
   "metadata": {},
   "outputs": [
    {
     "name": "stdout",
     "output_type": "stream",
     "text": [
      "96349\n"
     ]
    }
   ],
   "source": [
    "dir_sizes = {}\n",
    "dir_sizes = add_dict_size(dataDict=system, dir_sizes=dir_sizes)\n",
    "\n",
    "total_size_sum_max_1e5 = 0\n",
    "for key in dir_sizes:\n",
    "  if dir_sizes[key] <= 1e5:\n",
    "    total_size_sum_max_1e5 += dir_sizes[key]\n",
    "print(total_size_sum_max_1e5)"
   ]
  },
  {
   "cell_type": "code",
   "execution_count": 59,
   "metadata": {},
   "outputs": [
    {
     "data": {
      "text/plain": [
       "42143088"
      ]
     },
     "execution_count": 59,
     "metadata": {},
     "output_type": "execute_result"
    }
   ],
   "source": [
    "dict_size(system)"
   ]
  },
  {
   "cell_type": "markdown",
   "metadata": {},
   "source": [
    "Find smallest dictionary that frees up enough space for the update"
   ]
  },
  {
   "cell_type": "code",
   "execution_count": 12,
   "metadata": {},
   "outputs": [],
   "source": [
    "total_disk_space = 70000000\n",
    "update_space = 30000000\n",
    "free_space = total_disk_space - dict_size(system)\n",
    "needed_space = update_space - free_space"
   ]
  },
  {
   "cell_type": "code",
   "execution_count": 13,
   "metadata": {},
   "outputs": [
    {
     "name": "stdout",
     "output_type": "stream",
     "text": [
      "24933642\n"
     ]
    }
   ],
   "source": [
    "best_candidate = total_disk_space\n",
    "for key in dir_sizes:\n",
    "  if dir_sizes[key] > needed_space and dir_sizes[key] < best_candidate:\n",
    "    best_candidate = dir_sizes[key]\n",
    "print(best_candidate)"
   ]
  },
  {
   "cell_type": "code",
   "execution_count": null,
   "metadata": {},
   "outputs": [],
   "source": []
  }
 ],
 "metadata": {
  "kernelspec": {
   "display_name": "base",
   "language": "python",
   "name": "python3"
  },
  "language_info": {
   "codemirror_mode": {
    "name": "ipython",
    "version": 3
   },
   "file_extension": ".py",
   "mimetype": "text/x-python",
   "name": "python",
   "nbconvert_exporter": "python",
   "pygments_lexer": "ipython3",
   "version": "3.8.8"
  },
  "orig_nbformat": 4,
  "vscode": {
   "interpreter": {
    "hash": "740329b21a1252e1c253d583311b6d3f7744168cabc7e2151c4ba7a007513518"
   }
  }
 },
 "nbformat": 4,
 "nbformat_minor": 2
}
