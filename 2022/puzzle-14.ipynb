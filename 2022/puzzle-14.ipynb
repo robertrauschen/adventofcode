{
 "cells": [
  {
   "cell_type": "code",
   "execution_count": 55,
   "metadata": {},
   "outputs": [],
   "source": [
    "INPUTFILE = 'input-14.txt'\n",
    "\n",
    "with open(INPUTFILE, 'r') as file:\n",
    "    input = file.read()\n",
    "rows = input.split(\"\\n\")"
   ]
  },
  {
   "cell_type": "code",
   "execution_count": 56,
   "metadata": {},
   "outputs": [],
   "source": [
    "rocks = set()\n",
    "lowest_rock = 0\n",
    "leftest_rock = 500\n",
    "rightest_rock = 500\n",
    "for row in rows:\n",
    "  tuples = row.split(\" -> \")\n",
    "  for tuple_index in range(len(tuples)-1):\n",
    "    coord1 = [int(i) for i in tuples[tuple_index].split(\",\")]\n",
    "    coord2 = [int(i) for i in tuples[tuple_index+1].split(\",\")]\n",
    "    start_x = min(coord1[0], coord2[0])\n",
    "    end_x = max(coord1[0], coord2[0])\n",
    "    start_y = min(coord1[1], coord2[1])\n",
    "    end_y = max(coord1[1], coord2[1])\n",
    "\n",
    "    for x in range(start_x, end_x+1):\n",
    "      for y in range(start_y, end_y+1):\n",
    "        rocks.add((x,y))\n",
    "        if y > lowest_rock:\n",
    "          lowest_rock = y\n",
    "        if x > rightest_rock:\n",
    "          rightest_rock = x\n",
    "        if x < leftest_rock:\n",
    "          leftest_rock = x"
   ]
  },
  {
   "cell_type": "code",
   "execution_count": 57,
   "metadata": {},
   "outputs": [
    {
     "name": "stdout",
     "output_type": "stream",
     "text": [
      "aaaaaaaaaaaaaaaaaaaaaaaaaaaaaaaaaaaaaaaaaa......................\n"
     ]
    }
   ],
   "source": [
    "sand = set()\n",
    "source = (500,0)\n",
    "\n",
    "abyss = False\n",
    "while not abyss:\n",
    "  new_sand = source\n",
    "  rested = False\n",
    "  while not rested:    \n",
    "    if (new_sand[0], new_sand[1]+1) not in rocks.union(sand):\n",
    "      new_sand = (new_sand[0], new_sand[1]+1)\n",
    "    elif (new_sand[0]-1, new_sand[1]+1) not in rocks.union(sand):\n",
    "      new_sand = (new_sand[0]-1, new_sand[1]+1)\n",
    "    elif (new_sand[0]+1, new_sand[1]+1) not in rocks.union(sand):\n",
    "      new_sand = (new_sand[0]+1, new_sand[1]+1)\n",
    "    else:\n",
    "      sand.add(new_sand)\n",
    "      rested = True\n",
    "    if new_sand[1] > lowest_rock:\n",
    "      print(\"aaaaaaaaaaaaaaaaaaaaaaaaaaaaaaaaaaaaaaaaaa......................\")\n",
    "      abyss = True\n",
    "      break"
   ]
  },
  {
   "attachments": {},
   "cell_type": "markdown",
   "metadata": {},
   "source": [
    "Test again with optimised code"
   ]
  },
  {
   "cell_type": "code",
   "execution_count": 59,
   "metadata": {},
   "outputs": [
    {
     "name": "stdout",
     "output_type": "stream",
     "text": [
      "aaaaaaaaaaaaaaaaaaaaaaaaaaaaaaaaaaaaaaaaaa......................\n"
     ]
    }
   ],
   "source": [
    "sand = set()\n",
    "source = (500,0)\n",
    "\n",
    "blocked_space = rocks.union(sand)\n",
    "\n",
    "def move_sand(sandcorn:tuple, blocked_space: set) -> tuple:\n",
    "  for new_position in [(sandcorn[0], sandcorn[1]+1), (sandcorn[0]-1, sandcorn[1]+1), (sandcorn[0]+1, sandcorn[1]+1)]:\n",
    "    if new_position not in blocked_space:\n",
    "      return new_position\n",
    "  return\n",
    "\n",
    "abyss = False\n",
    "while not abyss:\n",
    "  new_sand = source\n",
    "  rested = False\n",
    "  while not rested:\n",
    "    new_position = move_sand(new_sand, blocked_space=blocked_space)\n",
    "    if new_position:\n",
    "      new_sand = new_position\n",
    "    else:\n",
    "      blocked_space.add(new_sand)\n",
    "      rested = True\n",
    "      \n",
    "    if new_sand[1] > lowest_rock:\n",
    "      print(\"aaaaaaaaaaaaaaaaaaaaaaaaaaaaaaaaaaaaaaaaaa......................\")\n",
    "      abyss = True\n",
    "      break"
   ]
  },
  {
   "cell_type": "code",
   "execution_count": 63,
   "metadata": {},
   "outputs": [
    {
     "data": {
      "image/png": "[encoded data removed]",
      "text/plain": [
       "<Figure size 432x288 with 1 Axes>"
      ]
     },
     "metadata": {
      "needs_background": "light"
     },
     "output_type": "display_data"
    }
   ],
   "source": [
    "from matplotlib import pyplot as plt\n",
    "import numpy as np\n",
    "\n",
    "sand = blocked_space - rocks\n",
    "\n",
    "plotrocks = np.array(list(rocks))\n",
    "plotsand = np.array(list(sand))\n",
    "\n",
    "plt.scatter(plotrocks[:,0], plotrocks[:,1])\n",
    "plt.scatter(plotsand[:,0], plotsand[:,1])\n",
    "\n",
    "ax = plt.gca()\n",
    "ax.invert_yaxis()\n",
    "\n",
    "plt.show()"
   ]
  },
  {
   "cell_type": "code",
   "execution_count": 62,
   "metadata": {},
   "outputs": [],
   "source": [
    "sand = set()\n",
    "source = (500,0)\n",
    "blocked_space = rocks.union(sand)\n",
    "\n",
    "def move_sand(sandcorn:tuple, blocked_space: set) -> tuple:\n",
    "  for new_position in [(sandcorn[0], sandcorn[1]+1), (sandcorn[0]-1, sandcorn[1]+1), (sandcorn[0]+1, sandcorn[1]+1)]:\n",
    "    if new_position not in blocked_space:\n",
    "      return new_position\n",
    "  return\n",
    "\n",
    "blocked_source = False\n",
    "while not blocked_source:\n",
    "  new_sand = source\n",
    "  rested = False\n",
    "  while not rested:\n",
    "    new_position = move_sand(new_sand, blocked_space=blocked_space)\n",
    "    if new_position:\n",
    "      new_sand = new_position\n",
    "    else:\n",
    "      blocked_space.add(new_sand)\n",
    "      rested = True\n",
    "\n",
    "    if new_sand[1] > lowest_rock:\n",
    "      #print(\"aaaaaaaaaaaaaaaaaaaaaaaaaaaaaaaaaaaaaaaaaa......................tock\")\n",
    "      blocked_space.add(new_sand)\n",
    "      rested = True\n",
    "  if new_sand == source:\n",
    "    blocked_source = True"
   ]
  },
  {
   "cell_type": "code",
   "execution_count": 64,
   "metadata": {},
   "outputs": [
    {
     "data": {
      "text/plain": [
       "30157"
      ]
     },
     "execution_count": 64,
     "metadata": {},
     "output_type": "execute_result"
    }
   ],
   "source": [
    "len(sand)"
   ]
  },
  {
   "cell_type": "code",
   "execution_count": null,
   "metadata": {},
   "outputs": [],
   "source": []
  }
 ],
 "metadata": {
  "kernelspec": {
   "display_name": "base",
   "language": "python",
   "name": "python3"
  },
  "language_info": {
   "codemirror_mode": {
    "name": "ipython",
    "version": 3
   },
   "file_extension": ".py",
   "mimetype": "text/x-python",
   "name": "python",
   "nbconvert_exporter": "python",
   "pygments_lexer": "ipython3",
   "version": "3.9.12 (main, Apr  4 2022, 05:22:27) [MSC v.1916 64 bit (AMD64)]"
  },
  "orig_nbformat": 4,
  "vscode": {
   "interpreter": {
    "hash": "a744fa8b948b3e9368cf0059071fba34dd7c35d69a6e6763a2919a4112cf4f91"
   }
  }
 },
 "nbformat": 4,
 "nbformat_minor": 2
}
