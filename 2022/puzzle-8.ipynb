{
 "cells": [
  {
   "cell_type": "code",
   "execution_count": 1,
   "metadata": {},
   "outputs": [],
   "source": [
    "INPUTFILE = 'input-8.txt'\n",
    "\n",
    "import numpy as np\n",
    "\n",
    "with open(INPUTFILE, 'r') as file:\n",
    "    input = file.read()\n",
    "rows = input.split(\"\\n\")"
   ]
  },
  {
   "cell_type": "code",
   "execution_count": 47,
   "metadata": {},
   "outputs": [],
   "source": [
    "x_range = len(rows[0])\n",
    "y_range = len(rows)\n",
    "wood = np.empty((x_range, y_range), dtype=int)\n",
    "for x in range(x_range):\n",
    "  for y in range(y_range):\n",
    "    wood[y,x] = int(rows[y][x])"
   ]
  },
  {
   "cell_type": "code",
   "execution_count": 48,
   "metadata": {},
   "outputs": [],
   "source": [
    "def tree_visible(wood:np.array, x_coord:int, y_coord:int):\n",
    "  row = wood[x_coord,:]\n",
    "  column = wood[:,y_coord]\n",
    "  tree = wood[x_coord, y_coord]\n",
    "\n",
    "  for x_right in range(x_coord+1, len(column)):\n",
    "    if column[x_right] >= tree:\n",
    "      for x_left in range(0, x_coord):\n",
    "        if column[x_left] >= tree:\n",
    "          for y_up in range(y_coord+1, len(row)):\n",
    "            if row[y_up] >= tree:\n",
    "              for y_down in range(0,y_coord):\n",
    "                if row[y_down] >= tree:\n",
    "                  return False\n",
    "  return True"
   ]
  },
  {
   "cell_type": "code",
   "execution_count": 49,
   "metadata": {},
   "outputs": [],
   "source": [
    "visible_trees = 0\n",
    "for x in range(len(wood)):\n",
    "  for y in range(len(wood[0])):\n",
    "    if tree_visible(wood=wood, x_coord=x, y_coord=y):\n",
    "      visible_trees += 1"
   ]
  },
  {
   "cell_type": "code",
   "execution_count": 50,
   "metadata": {},
   "outputs": [
    {
     "data": {
      "text/plain": [
       "1796"
      ]
     },
     "execution_count": 50,
     "metadata": {},
     "output_type": "execute_result"
    }
   ],
   "source": [
    "visible_trees"
   ]
  },
  {
   "cell_type": "code",
   "execution_count": 51,
   "metadata": {},
   "outputs": [],
   "source": [
    "def scenic_trees(tree_list:np.array, treehouse:int):\n",
    "    count = 0\n",
    "    for test_tree in tree_list:\n",
    "      count += 1\n",
    "      if test_tree >= treehouse:\n",
    "        break\n",
    "    return count\n",
    "\n",
    "def tree_scenic_score(wood:np.array, x_coord:int, y_coord:int):\n",
    "  row = wood[x_coord,:]\n",
    "  column = wood[:,y_coord]\n",
    "  tree = wood[x_coord, y_coord]\n",
    "\n",
    "  return (scenic_trees(column[x_coord+1:],tree)\n",
    "        * scenic_trees(np.flip(column[:x_coord]),tree)\n",
    "        * scenic_trees(row[y_coord+1:],tree)\n",
    "        * scenic_trees(np.flip(row[:y_coord]),tree))"
   ]
  },
  {
   "cell_type": "code",
   "execution_count": 52,
   "metadata": {},
   "outputs": [
    {
     "name": "stdout",
     "output_type": "stream",
     "text": [
      "288120\n"
     ]
    }
   ],
   "source": [
    "best_score = 0\n",
    "for x in range(len(wood)):\n",
    "  for y in range(len(wood[0])):\n",
    "    score = tree_scenic_score(wood=wood, x_coord=x, y_coord=y)\n",
    "    if score > best_score:\n",
    "      best_score = score\n",
    "print(best_score)"
   ]
  },
  {
   "cell_type": "code",
   "execution_count": null,
   "metadata": {},
   "outputs": [],
   "source": []
  }
 ],
 "metadata": {
  "kernelspec": {
   "display_name": "base",
   "language": "python",
   "name": "python3"
  },
  "language_info": {
   "codemirror_mode": {
    "name": "ipython",
    "version": 3
   },
   "file_extension": ".py",
   "mimetype": "text/x-python",
   "name": "python",
   "nbconvert_exporter": "python",
   "pygments_lexer": "ipython3",
   "version": "3.8.8 (default, Apr 13 2021, 15:08:03) [MSC v.1916 64 bit (AMD64)]"
  },
  "orig_nbformat": 4,
  "vscode": {
   "interpreter": {
    "hash": "740329b21a1252e1c253d583311b6d3f7744168cabc7e2151c4ba7a007513518"
   }
  }
 },
 "nbformat": 4,
 "nbformat_minor": 2
}
