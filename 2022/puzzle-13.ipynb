{
 "cells": [
  {
   "cell_type": "code",
   "execution_count": 61,
   "metadata": {},
   "outputs": [],
   "source": [
    "INPUTFILE = 'input-13.txt'\n",
    "\n",
    "with open(INPUTFILE, 'r') as file:\n",
    "    input = file.read()\n",
    "pair_input = input.split(\"\\n\\n\")"
   ]
  },
  {
   "cell_type": "code",
   "execution_count": 62,
   "metadata": {},
   "outputs": [],
   "source": [
    "import json\n",
    "\n",
    "pairs = []\n",
    "for pair in pair_input:\n",
    "  packets = pair.split(\"\\n\")\n",
    "  pairs.append((json.loads(packets[0]), json.loads(packets[1])))\n"
   ]
  },
  {
   "cell_type": "code",
   "execution_count": 63,
   "metadata": {},
   "outputs": [],
   "source": [
    "from __future__ import annotations\n",
    "\n",
    "def compare(left:list | int, right:list | int) -> str:\n",
    "  if type(left) == int and type(right) == int:\n",
    "    if left < right:\n",
    "      #print(\"left int smaller\")\n",
    "      return \"correct_order\"\n",
    "    if left == right:\n",
    "      return \"continue\"\n",
    "    if left > right:\n",
    "      #print(\"right int smaller\")\n",
    "      return \"false_order\"\n",
    "  if type(left) == list and type(right) == list:\n",
    "    for left_index in range(len(left)):\n",
    "      if left_index >= len(right):\n",
    "        #print(\"right list out of items\")\n",
    "        return \"false_order\"\n",
    "      result = compare(left=left[left_index], right=right[left_index])\n",
    "      if result == \"continue\":\n",
    "        continue\n",
    "      else:\n",
    "        return result\n",
    "    # if it doesn't hit the return statements above, the left list ran out of items\n",
    "    if len(left) < len(right):\n",
    "      #print(\"left list out of items\")\n",
    "      return \"correct_order\"\n",
    "    else:\n",
    "      return \"continue\"\n",
    "  if type(left) == int and type(right) == list:\n",
    "    return compare(left=[left], right=right)\n",
    "  if type(left) == list and type(right) == int:\n",
    "    return compare(left=left, right=[right])"
   ]
  },
  {
   "cell_type": "code",
   "execution_count": 64,
   "metadata": {},
   "outputs": [],
   "source": [
    "right_ordered = []\n",
    "index = 1\n",
    "for pair in pairs:\n",
    "  if compare(pair[0], pair[1]) == \"correct_order\":\n",
    "    right_ordered.append(index)\n",
    "  index += 1"
   ]
  },
  {
   "cell_type": "code",
   "execution_count": 65,
   "metadata": {},
   "outputs": [
    {
     "data": {
      "text/plain": [
       "5717"
      ]
     },
     "execution_count": 65,
     "metadata": {},
     "output_type": "execute_result"
    }
   ],
   "source": [
    "sum(right_ordered)"
   ]
  },
  {
   "attachments": {},
   "cell_type": "markdown",
   "metadata": {},
   "source": [
    "Organise packets"
   ]
  },
  {
   "cell_type": "code",
   "execution_count": 66,
   "metadata": {},
   "outputs": [],
   "source": [
    "rows = input.split(\"\\n\")\n",
    "raw_packets = []\n",
    "for row in rows:\n",
    "  if row == \"\":\n",
    "    continue\n",
    "  else:\n",
    "    raw_packets.append(json.loads(row))\n",
    "raw_packets.append([[2]])\n",
    "raw_packets.append([[6]])"
   ]
  },
  {
   "cell_type": "code",
   "execution_count": 71,
   "metadata": {},
   "outputs": [],
   "source": [
    "def quicksort(data:list) -> list:\n",
    "  if len(data) <= 1:\n",
    "    return data\n",
    "  pivot = data[0]\n",
    "  left_data = []\n",
    "  right_data = []\n",
    "  for dp in data[1:]:\n",
    "    if compare(dp, pivot) == \"false_order\":\n",
    "      right_data.append(dp)\n",
    "    else:\n",
    "      left_data.append(dp)\n",
    "  return quicksort(left_data) + [pivot] + quicksort(right_data)\n",
    "    "
   ]
  },
  {
   "cell_type": "code",
   "execution_count": 72,
   "metadata": {},
   "outputs": [],
   "source": [
    "sorted_packets = quicksort(raw_packets)"
   ]
  },
  {
   "cell_type": "code",
   "execution_count": 73,
   "metadata": {},
   "outputs": [
    {
     "data": {
      "text/plain": [
       "25935"
      ]
     },
     "execution_count": 73,
     "metadata": {},
     "output_type": "execute_result"
    }
   ],
   "source": [
    "(sorted_packets.index([[2]])+1) * (sorted_packets.index([[6]])+1)"
   ]
  },
  {
   "cell_type": "code",
   "execution_count": null,
   "metadata": {},
   "outputs": [],
   "source": []
  }
 ],
 "metadata": {
  "kernelspec": {
   "display_name": "base",
   "language": "python",
   "name": "python3"
  },
  "language_info": {
   "codemirror_mode": {
    "name": "ipython",
    "version": 3
   },
   "file_extension": ".py",
   "mimetype": "text/x-python",
   "name": "python",
   "nbconvert_exporter": "python",
   "pygments_lexer": "ipython3",
   "version": "3.9.12 (main, Apr  4 2022, 05:22:27) [MSC v.1916 64 bit (AMD64)]"
  },
  "orig_nbformat": 4,
  "vscode": {
   "interpreter": {
    "hash": "a744fa8b948b3e9368cf0059071fba34dd7c35d69a6e6763a2919a4112cf4f91"
   }
  }
 },
 "nbformat": 4,
 "nbformat_minor": 2
}
