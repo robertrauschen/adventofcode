{
 "cells": [
  {
   "cell_type": "code",
   "execution_count": 1,
   "metadata": {},
   "outputs": [],
   "source": [
    "INPUTFILE = 'input-12-test.txt'\n",
    "\n",
    "with open(INPUTFILE, 'r') as file:\n",
    "    input = file.read()\n",
    "rows = input.split(\"\\n\")"
   ]
  },
  {
   "cell_type": "code",
   "execution_count": 2,
   "metadata": {},
   "outputs": [],
   "source": [
    "import numpy as np\n",
    "import collections\n",
    "\n",
    "x_range = len(rows[0])\n",
    "y_range = len(rows)\n",
    "hmap = np.empty((x_range, y_range), dtype=int)\n",
    "for x in range(x_range):\n",
    "  for y in range(y_range):\n",
    "    if rows[y][x] == \"S\":\n",
    "      current = (x,y)\n",
    "      hmap[x,y] = 1\n",
    "    elif rows[y][x] == \"E\":\n",
    "      end = (x,y)\n",
    "      hmap[x,y] = 27\n",
    "    else:\n",
    "      hmap[x,y] = ord(rows[y][x]) - 96"
   ]
  },
  {
   "cell_type": "code",
   "execution_count": 3,
   "metadata": {},
   "outputs": [],
   "source": [
    "def bfs(grid:np.array, start:tuple, goal:int):\n",
    "    width = len(grid)\n",
    "    height = len(grid[0])\n",
    "    queue = collections.deque([[start]])\n",
    "    seen = set([start])\n",
    "    while queue:\n",
    "        path = queue.popleft()\n",
    "        x, y = path[-1]\n",
    "        if grid[x,y] == goal:\n",
    "            return path\n",
    "        for x2, y2 in ((x+1,y), (x-1,y), (x,y+1), (x,y-1)):\n",
    "            if 0 <= x2 < width and 0 <= y2 < height and grid[x2,y2] <= grid[x,y] + 1 and (x2, y2) not in seen:\n",
    "                queue.append(path + [(x2, y2)])\n",
    "                seen.add((x2, y2))"
   ]
  },
  {
   "cell_type": "code",
   "execution_count": 4,
   "metadata": {},
   "outputs": [
    {
     "name": "stdout",
     "output_type": "stream",
     "text": [
      "31\n"
     ]
    }
   ],
   "source": [
    "shortest_path = bfs(grid=hmap, start=current, goal=27)\n",
    "print(len(shortest_path)-1)"
   ]
  },
  {
   "cell_type": "code",
   "execution_count": 5,
   "metadata": {},
   "outputs": [
    {
     "data": {
      "text/plain": [
       "[(0, 0),\n",
       " (1, 0),\n",
       " (2, 0),\n",
       " (2, 1),\n",
       " (2, 2),\n",
       " (2, 3),\n",
       " (2, 4),\n",
       " (3, 4),\n",
       " (4, 4),\n",
       " (5, 4),\n",
       " (6, 4),\n",
       " (7, 4),\n",
       " (7, 3),\n",
       " (7, 2),\n",
       " (7, 1),\n",
       " (7, 0),\n",
       " (6, 0),\n",
       " (5, 0),\n",
       " (4, 0),\n",
       " (3, 0),\n",
       " (3, 1),\n",
       " (3, 2),\n",
       " (3, 3),\n",
       " (4, 3),\n",
       " (5, 3),\n",
       " (6, 3),\n",
       " (6, 2),\n",
       " (6, 1),\n",
       " (5, 1),\n",
       " (4, 1),\n",
       " (4, 2),\n",
       " (5, 2)]"
      ]
     },
     "execution_count": 5,
     "metadata": {},
     "output_type": "execute_result"
    }
   ],
   "source": [
    "shortest_path"
   ]
  },
  {
   "cell_type": "code",
   "execution_count": 69,
   "metadata": {},
   "outputs": [],
   "source": [
    "starting_points = np.where(hmap == 1)\n",
    "path_lengths = []\n",
    "for index in range(len(starting_points[0])):\n",
    "  start = (starting_points[0][index],starting_points[1][index])\n",
    "  new_path = bfs(grid=hmap, start=start, goal=27)\n",
    "  if new_path:\n",
    "    path_lengths.append(len(new_path)-1)"
   ]
  },
  {
   "cell_type": "code",
   "execution_count": 70,
   "metadata": {},
   "outputs": [
    {
     "data": {
      "text/plain": [
       "402"
      ]
     },
     "execution_count": 70,
     "metadata": {},
     "output_type": "execute_result"
    }
   ],
   "source": [
    "min(path_lengths)"
   ]
  },
  {
   "attachments": {},
   "cell_type": "markdown",
   "metadata": {},
   "source": [
    "Find subset of cluster that has an interface to next cluster"
   ]
  },
  {
   "cell_type": "code",
   "execution_count": 5,
   "metadata": {},
   "outputs": [],
   "source": [
    "clusters = []\n",
    "for i in range(27):\n",
    "  clusters.append(np.array(np.where(hmap == i)))\n",
    "\n",
    "def interface(cluster:np.array, neighbor:np.array):\n",
    "  inter_cluster = np.array([[],[]], dtype=int)\n",
    "  for i1 in range(len(cluster[0])):\n",
    "    x_coord = cluster[0][i1]\n",
    "    y_coord = cluster[1][i1]\n",
    "    for i2 in range(len(neighbor[0])):\n",
    "      # check if coordinates are neighboring\n",
    "      if (\n",
    "        abs(x_coord - neighbor[0][i2]) <= 1 and abs(y_coord - neighbor[1][i2]) == 0 or\n",
    "        abs(x_coord - neighbor[0][i2]) == 0 and abs(y_coord - neighbor[1][i2]) <=1\n",
    "        ):\n",
    "        inter_cluster = np.concatenate([inter_cluster, np.array([[x_coord],[y_coord]])], axis=1)\n",
    "        break\n",
    "  return inter_cluster"
   ]
  },
  {
   "cell_type": "code",
   "execution_count": 115,
   "metadata": {},
   "outputs": [],
   "source": [
    "interface_clusters = []\n",
    "for index in range(len(clusters)-1):\n",
    "  interface_clusters.append(interface(clusters[index], clusters[index+1]))"
   ]
  }
 ],
 "metadata": {
  "kernelspec": {
   "display_name": "base",
   "language": "python",
   "name": "python3"
  },
  "language_info": {
   "codemirror_mode": {
    "name": "ipython",
    "version": 3
   },
   "file_extension": ".py",
   "mimetype": "text/x-python",
   "name": "python",
   "nbconvert_exporter": "python",
   "pygments_lexer": "ipython3",
   "version": "3.8.8"
  },
  "orig_nbformat": 4,
  "vscode": {
   "interpreter": {
    "hash": "740329b21a1252e1c253d583311b6d3f7744168cabc7e2151c4ba7a007513518"
   }
  }
 },
 "nbformat": 4,
 "nbformat_minor": 2
}
