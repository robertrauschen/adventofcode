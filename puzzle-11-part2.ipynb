{
 "cells": [
  {
   "cell_type": "code",
   "execution_count": 1,
   "metadata": {},
   "outputs": [],
   "source": [
    "INPUTFILE = 'input-11-test.txt'\n",
    "\n",
    "with open(INPUTFILE, 'r') as file:\n",
    "    input = file.read()\n",
    "monkey_inputs = input.split(\"\\n\\n\")"
   ]
  },
  {
   "cell_type": "code",
   "execution_count": 3,
   "metadata": {},
   "outputs": [],
   "source": [
    "import re\n",
    "import numpy as np\n",
    "\n",
    "class Monkey:\n",
    "\n",
    "  def __init__(\n",
    "      self,\n",
    "      input:list,\n",
    "    ):\n",
    "    self.index = re.findall(r'\\d+', input[0])[0]\n",
    "    self.items = [int(item) for item in re.findall(r'\\d+', input[1])]\n",
    "    self.op_expr = input[2].split(\"=\")[1]\n",
    "    self.test_expr = int(re.findall(r'\\d+', input[3])[0])\n",
    "    self.true_expr = int(re.findall(r'\\d+', input[4])[0])\n",
    "    self.false_expr = int(re.findall(r'\\d+', input[5])[0])\n",
    "    self.inspected_items = 0\n",
    "\n",
    "  def __str__(self):\n",
    "    return f\"Monkey {self.index}: {self.items}\"\n",
    "\n",
    "  def operation(self, old_value):\n",
    "    return eval(self.op_expr.replace(\"old\", str(old_value)))\n",
    "  \n",
    "  def throw(self, worry_level):\n",
    "    if worry_level % self.test_expr == 0:\n",
    "      return self.true_expr\n",
    "    else:\n",
    "      return self.false_expr\n"
   ]
  },
  {
   "attachments": {},
   "cell_type": "markdown",
   "metadata": {},
   "source": [
    "Initialise monkeys"
   ]
  },
  {
   "cell_type": "code",
   "execution_count": 4,
   "metadata": {},
   "outputs": [
    {
     "name": "stdout",
     "output_type": "stream",
     "text": [
      "Monkey 0: [79, 98]\n",
      "Monkey 1: [54, 65, 75, 74]\n",
      "Monkey 2: [79, 60, 97]\n",
      "Monkey 3: [74]\n",
      "96577\n"
     ]
    }
   ],
   "source": [
    "monkeys_init = []\n",
    "for monkey_input in monkey_inputs:\n",
    "  monkeys_init.append(Monkey(monkey_input.split(\"\\n\")))\n",
    "for monkey in monkeys_init:\n",
    "  print(monkey)\n",
    "combined_test_factors = np.prod([monkey.test_expr for monkey in monkeys_init])\n",
    "print(combined_test_factors)"
   ]
  },
  {
   "attachments": {},
   "cell_type": "markdown",
   "metadata": {},
   "source": [
    "Playing 10000 rounds without relief"
   ]
  },
  {
   "cell_type": "code",
   "execution_count": 6,
   "metadata": {},
   "outputs": [],
   "source": [
    "from copy import deepcopy\n",
    "\n",
    "monkeys = deepcopy(monkeys_init)\n",
    "for round in range(10):\n",
    "  for monkey in monkeys:\n",
    "    for item in monkey.items:\n",
    "      new_item = monkey.operation(item) % combined_test_factors\n",
    "      new_monkey = monkey.throw(new_item)\n",
    "      monkeys[new_monkey].items.append(new_item)\n",
    "      monkey.inspected_items += 1\n",
    "    monkey.items = []"
   ]
  },
  {
   "cell_type": "code",
   "execution_count": 7,
   "metadata": {},
   "outputs": [
    {
     "name": "stdout",
     "output_type": "stream",
     "text": [
      "46\n",
      "50\n",
      "4\n",
      "50\n"
     ]
    }
   ],
   "source": [
    "for monkey in monkeys:\n",
    "  print(monkey.inspected_items)"
   ]
  },
  {
   "cell_type": "code",
   "execution_count": 8,
   "metadata": {},
   "outputs": [
    {
     "name": "stdout",
     "output_type": "stream",
     "text": [
      "Monkey 0: [65179, 25944, 40992, 63659, 31245, 83837, 85452, 13056]\n",
      "Monkey 1: [15431, 52709]\n",
      "Monkey 2: []\n",
      "Monkey 3: []\n"
     ]
    }
   ],
   "source": [
    "for monkey in monkeys:\n",
    "  print(monkey)"
   ]
  },
  {
   "cell_type": "code",
   "execution_count": 9,
   "metadata": {},
   "outputs": [
    {
     "name": "stdout",
     "output_type": "stream",
     "text": [
      "2500\n"
     ]
    }
   ],
   "source": [
    "overall_inspected = sorted([monkey.inspected_items for monkey in monkeys])\n",
    "print(overall_inspected[-1] * overall_inspected[-2])"
   ]
  },
  {
   "cell_type": "code",
   "execution_count": 8,
   "metadata": {},
   "outputs": [
    {
     "data": {
      "text/plain": [
       "numpy.int32"
      ]
     },
     "execution_count": 8,
     "metadata": {},
     "output_type": "execute_result"
    }
   ],
   "source": [
    "type(combined_test_factors)"
   ]
  },
  {
   "cell_type": "code",
   "execution_count": null,
   "metadata": {},
   "outputs": [],
   "source": []
  }
 ],
 "metadata": {
  "kernelspec": {
   "display_name": "base",
   "language": "python",
   "name": "python3"
  },
  "language_info": {
   "codemirror_mode": {
    "name": "ipython",
    "version": 3
   },
   "file_extension": ".py",
   "mimetype": "text/x-python",
   "name": "python",
   "nbconvert_exporter": "python",
   "pygments_lexer": "ipython3",
   "version": "3.8.8"
  },
  "orig_nbformat": 4,
  "vscode": {
   "interpreter": {
    "hash": "740329b21a1252e1c253d583311b6d3f7744168cabc7e2151c4ba7a007513518"
   }
  }
 },
 "nbformat": 4,
 "nbformat_minor": 2
}
