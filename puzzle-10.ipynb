{
 "cells": [
  {
   "cell_type": "code",
   "execution_count": 47,
   "metadata": {},
   "outputs": [],
   "source": [
    "INPUTFILE = 'input-10.txt'\n",
    "\n",
    "with open(INPUTFILE, 'r') as file:\n",
    "    input = file.read()\n",
    "rows = input.split(\"\\n\")"
   ]
  },
  {
   "cell_type": "code",
   "execution_count": 48,
   "metadata": {},
   "outputs": [
    {
     "name": "stdout",
     "output_type": "stream",
     "text": [
      "Problem:  was not parsed.\n",
      "241\n"
     ]
    }
   ],
   "source": [
    "register = [1]\n",
    "for row in rows:\n",
    "  command = row.split(\" \")\n",
    "  current_reg = register[-1]\n",
    "  if command[0] == \"noop\":\n",
    "    register.append(current_reg)\n",
    "  elif command[0] == \"addx\":\n",
    "    register.append(current_reg)\n",
    "    register.append(current_reg + int(command[1]))\n",
    "  else:\n",
    "    print(f\"Problem: {row} was not parsed.\")\n",
    "print(len(register))"
   ]
  },
  {
   "cell_type": "code",
   "execution_count": 49,
   "metadata": {},
   "outputs": [
    {
     "name": "stdout",
     "output_type": "stream",
     "text": [
      "14820\n"
     ]
    }
   ],
   "source": [
    "cycle = 20\n",
    "total_strength = 0\n",
    "strengths = []\n",
    "while cycle <= 220:\n",
    "  total_strength += cycle * register[cycle-1]\n",
    "  strengths.append(cycle*register[cycle-1])\n",
    "  cycle += 40\n",
    "print(total_strength)"
   ]
  },
  {
   "cell_type": "code",
   "execution_count": 50,
   "metadata": {},
   "outputs": [
    {
     "name": "stdout",
     "output_type": "stream",
     "text": [
      "\n",
      "###..####.####.#..#.####.####.#..#..##..\n",
      "#..#....#.#....#.#..#....#....#..#.#..#.\n",
      "#..#...#..###..##...###..###..####.#..#.\n",
      "###...#...#....#.#..#....#....#..#.####.\n",
      "#.#..#....#....#.#..#....#....#..#.#..#.\n",
      "#..#.####.####.#..#.####.#....#..#.#..#.\n",
      "."
     ]
    }
   ],
   "source": [
    "for cycle in range(len(register)):\n",
    "  if cycle % 40 == 0:\n",
    "    print(\"\")\n",
    "  sprite = register[cycle]\n",
    "  if cycle % 40 in [sprite-1, sprite, sprite+1]:\n",
    "    print(\"#\", end=\"\")\n",
    "  else:\n",
    "    print(\".\", end=\"\")\n",
    "  "
   ]
  },
  {
   "cell_type": "code",
   "execution_count": null,
   "metadata": {},
   "outputs": [],
   "source": []
  }
 ],
 "metadata": {
  "kernelspec": {
   "display_name": "base",
   "language": "python",
   "name": "python3"
  },
  "language_info": {
   "codemirror_mode": {
    "name": "ipython",
    "version": 3
   },
   "file_extension": ".py",
   "mimetype": "text/x-python",
   "name": "python",
   "nbconvert_exporter": "python",
   "pygments_lexer": "ipython3",
   "version": "3.8.8"
  },
  "orig_nbformat": 4,
  "vscode": {
   "interpreter": {
    "hash": "740329b21a1252e1c253d583311b6d3f7744168cabc7e2151c4ba7a007513518"
   }
  }
 },
 "nbformat": 4,
 "nbformat_minor": 2
}
