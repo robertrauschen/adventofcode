{
 "cells": [
  {
   "cell_type": "code",
   "execution_count": 79,
   "metadata": {},
   "outputs": [],
   "source": [
    "INPUTFILE = 'input_12.txt'\n",
    "\n",
    "with open(INPUTFILE, 'r') as file:\n",
    "    content = file.read()\n",
    "rows = (content.split(\"\\n\"))[:-1]"
   ]
  },
  {
   "cell_type": "code",
   "execution_count": 80,
   "metadata": {},
   "outputs": [],
   "source": [
    "import numpy as np\n",
    "from itertools import combinations\n",
    "import re"
   ]
  },
  {
   "cell_type": "code",
   "execution_count": 81,
   "metadata": {},
   "outputs": [],
   "source": [
    "springs:list[str] = []\n",
    "records:list[list[int]] = []\n",
    "for row in rows:\n",
    "  springs.append(row.split(\" \")[0])\n",
    "  records.append(list(map(int, row.split(\" \")[1].split(\",\"))))"
   ]
  },
  {
   "cell_type": "code",
   "execution_count": 82,
   "metadata": {},
   "outputs": [
    {
     "name": "stdout",
     "output_type": "stream",
     "text": [
      "7110\n"
     ]
    }
   ],
   "source": [
    "total = 0\n",
    "for i in range(len(records)):\n",
    "  missing = sum(records[i]) - springs[i].count(\"#\")\n",
    "  spring_items = list(springs[i])\n",
    "  free_slots = np.where(np.array(spring_items) == \"?\")[0]\n",
    "  for comb in combinations(free_slots, missing):\n",
    "    temp = spring_items.copy()\n",
    "    for j in comb:\n",
    "      temp[j] = \"#\"\n",
    "    if [len(block) for block in re.split(r'\\.|\\?', \"\".join(temp)) if block] == records[i]:\n",
    "      total += 1\n",
    "print(total)"
   ]
  },
  {
   "cell_type": "markdown",
   "metadata": {},
   "source": [
    "Part 2"
   ]
  },
  {
   "cell_type": "code",
   "execution_count": null,
   "metadata": {},
   "outputs": [],
   "source": []
  }
 ],
 "metadata": {
  "kernelspec": {
   "display_name": "chemputer",
   "language": "python",
   "name": "python3"
  },
  "language_info": {
   "codemirror_mode": {
    "name": "ipython",
    "version": 3
   },
   "file_extension": ".py",
   "mimetype": "text/x-python",
   "name": "python",
   "nbconvert_exporter": "python",
   "pygments_lexer": "ipython3",
   "version": "3.10.13"
  }
 },
 "nbformat": 4,
 "nbformat_minor": 2
}
