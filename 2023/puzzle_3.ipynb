{
 "cells": [
  {
   "cell_type": "code",
   "execution_count": 16,
   "metadata": {},
   "outputs": [],
   "source": [
    "INPUTFILE = 'input_3.txt'\n",
    "\n",
    "with open(INPUTFILE, 'r') as file:\n",
    "    input = file.read()\n",
    "rows = (input.split(\"\\n\"))[:-1]"
   ]
  },
  {
   "cell_type": "markdown",
   "metadata": {},
   "source": [
    "Part 1"
   ]
  },
  {
   "cell_type": "code",
   "execution_count": 30,
   "metadata": {},
   "outputs": [
    {
     "name": "stdout",
     "output_type": "stream",
     "text": [
      "544433\n"
     ]
    }
   ],
   "source": [
    "sum = 0\n",
    "engine:list[list[str]] = []\n",
    "for row in rows:\n",
    "    engine.append(list(row))\n",
    "num_columns = len(engine[0])\n",
    "num_rows = len(engine)\n",
    "for row_index in range(num_rows):\n",
    "    current_number_col = []\n",
    "    current_number_value = \"\"\n",
    "    for column_index in range(num_columns):\n",
    "        char = engine[row_index][column_index]\n",
    "        if char.isdigit():\n",
    "            current_number_value += char\n",
    "            current_number_col.append(column_index)\n",
    "        if not char.isdigit() or column_index == num_columns - 1:\n",
    "            if current_number_value != \"\":\n",
    "                left_border = max(current_number_col[0] - 1, 0)\n",
    "                right_border = min(current_number_col[-1] + 1, num_columns)\n",
    "                neighboring_chars:list[str] = []\n",
    "                if row_index > 0:\n",
    "                    neighboring_chars += engine[row_index - 1][left_border:right_border + 1]\n",
    "                if row_index < num_rows - 1:\n",
    "                    neighboring_chars += engine[row_index + 1][left_border:right_border + 1]\n",
    "                if left_border > 0:\n",
    "                    neighboring_chars += engine[row_index][left_border]\n",
    "                if right_border < num_columns - 1:\n",
    "                    neighboring_chars += engine[row_index][right_border]\n",
    "                \n",
    "                for neighboring_char in neighboring_chars:\n",
    "                    if not neighboring_char.isdigit() and neighboring_char != \".\":\n",
    "                        sum += int(current_number_value)\n",
    "                        #print(\"counting\")\n",
    "                        break\n",
    "                #print(current_number_value, current_number_col, neighboring_chars, len(neighboring_chars))\n",
    "                current_number_value = \"\"\n",
    "                current_number_col = []\n",
    "print(sum)"
   ]
  },
  {
   "cell_type": "markdown",
   "metadata": {},
   "source": [
    "Part 2"
   ]
  },
  {
   "cell_type": "code",
   "execution_count": 44,
   "metadata": {},
   "outputs": [],
   "source": [
    "gears = {}\n",
    "engine:list[list[str]] = []\n",
    "for row in rows:\n",
    "    engine.append(list(row))\n",
    "num_columns = len(engine[0])\n",
    "num_rows = len(engine)\n",
    "for row_index in range(num_rows):\n",
    "    current_number_col = []\n",
    "    current_number_value = \"\"\n",
    "    for column_index in range(num_columns):\n",
    "        char = engine[row_index][column_index]\n",
    "        if char.isdigit():\n",
    "            current_number_value += char\n",
    "            current_number_col.append(column_index)\n",
    "        if not char.isdigit() or column_index == num_columns - 1:\n",
    "            if current_number_value != \"\":\n",
    "                left_border = max(current_number_col[0] - 1, 0)\n",
    "                right_border = min(current_number_col[-1] + 1, num_columns - 1)\n",
    "                \n",
    "                neighboring_coords:list[tuple[int, int]] = []\n",
    "                if row_index > 0:\n",
    "                    neighboring_coords += [(row_index - 1, i) for i in range(left_border, right_border + 1)]\n",
    "                if row_index < num_rows - 1:\n",
    "                    neighboring_coords += [(row_index + 1, i) for i in range(left_border, right_border + 1)]\n",
    "                if left_border > 0:\n",
    "                    neighboring_coords += [(row_index, left_border)]\n",
    "                if right_border < num_columns - 1:\n",
    "                    neighboring_coords += [(row_index, right_border)]\n",
    "                \n",
    "                for neighbor_coord in neighboring_coords:\n",
    "                    if engine[neighbor_coord[0]][neighbor_coord[1]] == \"*\":\n",
    "                        if neighbor_coord not in gears:\n",
    "                            gears[neighbor_coord] = [int(current_number_value)]\n",
    "                        else:\n",
    "                            gears[neighbor_coord].append(int(current_number_value))\n",
    "                        #print(\"counting\")\n",
    "                        break\n",
    "                #print(current_number_value, current_number_col, len(neighboring_coords))\n",
    "                current_number_value = \"\"\n",
    "                current_number_col = []"
   ]
  },
  {
   "cell_type": "code",
   "execution_count": 47,
   "metadata": {},
   "outputs": [
    {
     "name": "stdout",
     "output_type": "stream",
     "text": [
      "76314915\n"
     ]
    }
   ],
   "source": [
    "sum = 0\n",
    "for gear in gears:\n",
    "    if len(gears[gear]) == 2:\n",
    "        sum += gears[gear][0] * gears[gear][1]\n",
    "print(sum)"
   ]
  },
  {
   "cell_type": "code",
   "execution_count": null,
   "metadata": {},
   "outputs": [],
   "source": []
  }
 ],
 "metadata": {
  "kernelspec": {
   "display_name": "Python 3.8.8 ('base')",
   "language": "python",
   "name": "python3"
  },
  "language_info": {
   "codemirror_mode": {
    "name": "ipython",
    "version": 3
   },
   "file_extension": ".py",
   "mimetype": "text/x-python",
   "name": "python",
   "nbconvert_exporter": "python",
   "pygments_lexer": "ipython3",
   "version": "3.10.13"
  },
  "orig_nbformat": 4,
  "vscode": {
   "interpreter": {
    "hash": "740329b21a1252e1c253d583311b6d3f7744168cabc7e2151c4ba7a007513518"
   }
  }
 },
 "nbformat": 4,
 "nbformat_minor": 2
}
