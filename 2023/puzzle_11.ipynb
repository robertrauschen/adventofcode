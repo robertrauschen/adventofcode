{
 "cells": [
  {
   "cell_type": "code",
   "execution_count": 1,
   "metadata": {},
   "outputs": [],
   "source": [
    "INPUTFILE = 'input_11.txt'\n",
    "\n",
    "with open(INPUTFILE, 'r') as file:\n",
    "    content = file.read()\n",
    "rows = (content.split(\"\\n\"))[:-1]"
   ]
  },
  {
   "cell_type": "code",
   "execution_count": 2,
   "metadata": {},
   "outputs": [],
   "source": [
    "import pandas as pd\n",
    "import numpy as np"
   ]
  },
  {
   "cell_type": "code",
   "execution_count": 3,
   "metadata": {},
   "outputs": [
    {
     "name": "stdout",
     "output_type": "stream",
     "text": [
      "10490062\n"
     ]
    }
   ],
   "source": [
    "universe = [list(map(int, list(row.replace('.', '0').replace('#', '1')))) for row in rows]\n",
    "#universe = np.array(universe)\n",
    "df = pd.DataFrame(universe)\n",
    "new_columns = []\n",
    "for column in df.columns:\n",
    "    if sum(list(df[column])) == 0:\n",
    "        new_columns.append(column)\n",
    "for column in reversed(new_columns):\n",
    "    df.insert(column, column + 0.5, 0)\n",
    "\n",
    "for row in df.index:\n",
    "    if sum(list(df.loc[row])) == 0:\n",
    "        df.loc[row+0.5] = 0\n",
    "df.sort_index(inplace=True)\n",
    "ex_uni = df.to_numpy()\n",
    "galaxies = []\n",
    "for x,y in zip(np.where(ex_uni == 1)[0], np.where(ex_uni == 1)[1]):\n",
    "    galaxies.append((x,y))\n",
    "total = 0\n",
    "for i in range(len(galaxies)):\n",
    "    for j in range(i+1, len(galaxies)):\n",
    "        total += abs(galaxies[i][0] - galaxies[j][0]) + abs(galaxies[i][1] - galaxies[j][1])\n",
    "print(total)"
   ]
  },
  {
   "cell_type": "markdown",
   "metadata": {},
   "source": [
    "Part 2"
   ]
  },
  {
   "cell_type": "code",
   "execution_count": 10,
   "metadata": {},
   "outputs": [],
   "source": [
    "ex_factor = 5"
   ]
  },
  {
   "cell_type": "code",
   "execution_count": 11,
   "metadata": {},
   "outputs": [
    {
     "name": "stdout",
     "output_type": "stream",
     "text": [
      "11638972\n"
     ]
    }
   ],
   "source": [
    "universe = [list(map(int, list(row.replace('.', '0').replace('#', '1')))) for row in rows]\n",
    "#universe = np.array(universe)\n",
    "df = pd.DataFrame(universe)\n",
    "new_columns = []\n",
    "for column in df.columns:\n",
    "    if sum(list(df[column])) == 0:\n",
    "        new_columns.append(column)\n",
    "for column in reversed(new_columns):\n",
    "    for i in range(1, ex_factor):\n",
    "        df.insert(column, column + i / ex_factor, 0)\n",
    "\n",
    "for row in df.index:\n",
    "    if sum(list(df.loc[row])) == 0:\n",
    "        for i in range(1, ex_factor):\n",
    "            df.loc[row + i / ex_factor] = 0\n",
    "df.sort_index(inplace=True)\n",
    "ex_uni = df.to_numpy()\n",
    "galaxies = []\n",
    "for x,y in zip(np.where(ex_uni == 1)[0], np.where(ex_uni == 1)[1]):\n",
    "    galaxies.append((x,y))\n",
    "total = 0\n",
    "for i in range(len(galaxies)):\n",
    "    for j in range(i+1, len(galaxies)):\n",
    "        total += abs(galaxies[i][0] - galaxies[j][0]) + abs(galaxies[i][1] - galaxies[j][1])\n",
    "print(total)"
   ]
  },
  {
   "cell_type": "code",
   "execution_count": 12,
   "metadata": {},
   "outputs": [],
   "source": [
    "total_scores = {\n",
    "  2: 10490062,\n",
    "  3: 10873032,\n",
    "  4: 11256002,\n",
    "  5: 11638972,\n",
    "}\n"
   ]
  },
  {
   "cell_type": "code",
   "execution_count": 13,
   "metadata": {},
   "outputs": [
    {
     "data": {
      "text/plain": [
       "382970"
      ]
     },
     "execution_count": 13,
     "metadata": {},
     "output_type": "execute_result"
    }
   ],
   "source": [
    "total_scores[3]-total_scores[2]"
   ]
  },
  {
   "cell_type": "code",
   "execution_count": 14,
   "metadata": {},
   "outputs": [
    {
     "data": {
      "text/plain": [
       "382970"
      ]
     },
     "execution_count": 14,
     "metadata": {},
     "output_type": "execute_result"
    }
   ],
   "source": [
    "total_scores[4]-total_scores[3]\n"
   ]
  },
  {
   "cell_type": "code",
   "execution_count": 15,
   "metadata": {},
   "outputs": [
    {
     "data": {
      "text/plain": [
       "382970"
      ]
     },
     "execution_count": 15,
     "metadata": {},
     "output_type": "execute_result"
    }
   ],
   "source": [
    "total_scores[5]-total_scores[4]"
   ]
  },
  {
   "cell_type": "code",
   "execution_count": 16,
   "metadata": {},
   "outputs": [
    {
     "data": {
      "text/plain": [
       "382979724122.0"
      ]
     },
     "execution_count": 16,
     "metadata": {},
     "output_type": "execute_result"
    }
   ],
   "source": [
    "total_scores[2] + 382970 * (1e6-2)"
   ]
  },
  {
   "cell_type": "code",
   "execution_count": null,
   "metadata": {},
   "outputs": [],
   "source": []
  }
 ],
 "metadata": {
  "kernelspec": {
   "display_name": "xdl",
   "language": "python",
   "name": "python3"
  },
  "language_info": {
   "codemirror_mode": {
    "name": "ipython",
    "version": 3
   },
   "file_extension": ".py",
   "mimetype": "text/x-python",
   "name": "python",
   "nbconvert_exporter": "python",
   "pygments_lexer": "ipython3",
   "version": "3.10.13"
  }
 },
 "nbformat": 4,
 "nbformat_minor": 2
}
