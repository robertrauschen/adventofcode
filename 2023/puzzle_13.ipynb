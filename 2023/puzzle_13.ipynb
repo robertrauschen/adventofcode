{
 "cells": [
  {
   "cell_type": "code",
   "execution_count": 43,
   "metadata": {},
   "outputs": [],
   "source": [
    "INPUTFILE = 'testinput_13.txt'\n",
    "\n",
    "with open(INPUTFILE, 'r') as file:\n",
    "    content = file.read()\n",
    "rows = (content.split(\"\\n\"))[:-1]"
   ]
  },
  {
   "cell_type": "code",
   "execution_count": 44,
   "metadata": {},
   "outputs": [],
   "source": [
    "import numpy as np"
   ]
  },
  {
   "cell_type": "code",
   "execution_count": 46,
   "metadata": {},
   "outputs": [
    {
     "name": "stdout",
     "output_type": "stream",
     "text": [
      "26957\n"
     ]
    }
   ],
   "source": [
    "blocks = content.split(\"\\n\\n\")\n",
    "patterns = [[ row for row in block.split(\"\\n\") if row] for block in blocks]\n",
    "total = 0\n",
    "for pattern in patterns:\n",
    "  found_mirror = False\n",
    "  for row_index in range(len(pattern)-1):\n",
    "    if pattern[row_index] == pattern[row_index+1]:\n",
    "      perfect = True\n",
    "      for j in range(1, min(row_index, len(pattern)-row_index-2)+1):\n",
    "        if pattern[row_index-j] != pattern[row_index+1+j]:\n",
    "          perfect = False\n",
    "          break\n",
    "      if perfect:\n",
    "        total += (row_index+1) * 100\n",
    "        found_mirror = True\n",
    "        break\n",
    "  if found_mirror:\n",
    "    continue\n",
    "  t_pattern = np.array([list(x) for x in pattern]).T\n",
    "  for col_index in range(len(t_pattern)-1):\n",
    "    if (t_pattern[col_index] == t_pattern[col_index+1]).all():\n",
    "      perfect = True\n",
    "      for j in range(1, min(col_index, len(t_pattern)-col_index-2)+1):\n",
    "        if (t_pattern[col_index-j] != t_pattern[col_index+1+j]).any():\n",
    "          perfect = False\n",
    "          break\n",
    "      if perfect:\n",
    "        total += col_index+1\n",
    "        #print(col_index)\n",
    "        #print(t_pattern)\n",
    "        break\n",
    "print(total)"
   ]
  },
  {
   "cell_type": "code",
   "execution_count": null,
   "metadata": {},
   "outputs": [],
   "source": []
  }
 ],
 "metadata": {
  "kernelspec": {
   "display_name": "chemputer",
   "language": "python",
   "name": "python3"
  },
  "language_info": {
   "codemirror_mode": {
    "name": "ipython",
    "version": 3
   },
   "file_extension": ".py",
   "mimetype": "text/x-python",
   "name": "python",
   "nbconvert_exporter": "python",
   "pygments_lexer": "ipython3",
   "version": "3.10.13"
  }
 },
 "nbformat": 4,
 "nbformat_minor": 2
}
