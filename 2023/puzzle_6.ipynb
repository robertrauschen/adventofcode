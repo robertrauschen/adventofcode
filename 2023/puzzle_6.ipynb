{
 "cells": [
  {
   "cell_type": "code",
   "execution_count": 19,
   "metadata": {},
   "outputs": [],
   "source": [
    "INPUTFILE = 'testinput_6.txt'\n",
    "\n",
    "with open(INPUTFILE, 'r') as file:\n",
    "    content = file.read()\n",
    "rows = (content.split(\"\\n\"))[:-1]"
   ]
  },
  {
   "cell_type": "markdown",
   "metadata": {},
   "source": [
    "Part 1"
   ]
  },
  {
   "cell_type": "code",
   "execution_count": 20,
   "metadata": {},
   "outputs": [
    {
     "name": "stdout",
     "output_type": "stream",
     "text": [
      "288\n"
     ]
    }
   ],
   "source": [
    "times = [int(x) for x in rows[0].split(\" \")[1:] if x]\n",
    "dists = [int(x) for x in rows[1].split(\" \")[1:] if x]\n",
    "\n",
    "score = 1\n",
    "for index in range(len(times)):\n",
    "  ways_to_win = 0\n",
    "  for charged_sec in range(times[index]):\n",
    "    travelled = charged_sec * (times[index] - charged_sec)\n",
    "    if travelled > dists[index]:\n",
    "      ways_to_win += 1\n",
    "  score *= ways_to_win\n",
    "print(score)"
   ]
  },
  {
   "cell_type": "markdown",
   "metadata": {},
   "source": [
    "Part 2"
   ]
  },
  {
   "cell_type": "code",
   "execution_count": 21,
   "metadata": {},
   "outputs": [
    {
     "name": "stdout",
     "output_type": "stream",
     "text": [
      "71530 940200\n"
     ]
    }
   ],
   "source": [
    "time = int(rows[0].split(\":\")[1].replace(\" \", \"\"))\n",
    "dist = int(rows[1].split(\":\")[1].replace(\" \", \"\"))\n",
    "print(time, dist)"
   ]
  }
 ],
 "metadata": {
  "kernelspec": {
   "display_name": "Python 3.8.8 ('base')",
   "language": "python",
   "name": "python3"
  },
  "language_info": {
   "codemirror_mode": {
    "name": "ipython",
    "version": 3
   },
   "file_extension": ".py",
   "mimetype": "text/x-python",
   "name": "python",
   "nbconvert_exporter": "python",
   "pygments_lexer": "ipython3",
   "version": "3.9.12"
  },
  "orig_nbformat": 4,
  "vscode": {
   "interpreter": {
    "hash": "740329b21a1252e1c253d583311b6d3f7744168cabc7e2151c4ba7a007513518"
   }
  }
 },
 "nbformat": 4,
 "nbformat_minor": 2
}
