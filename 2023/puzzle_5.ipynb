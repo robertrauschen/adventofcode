{
 "cells": [
  {
   "cell_type": "code",
   "execution_count": 27,
   "metadata": {},
   "outputs": [],
   "source": [
    "INPUTFILE = 'input_5.txt'\n",
    "\n",
    "with open(INPUTFILE, 'r') as file:\n",
    "    content = file.read()\n",
    "rows = (content.split(\"\\n\"))[:-1]"
   ]
  },
  {
   "cell_type": "markdown",
   "metadata": {},
   "source": [
    "Part 1"
   ]
  },
  {
   "cell_type": "code",
   "execution_count": 28,
   "metadata": {},
   "outputs": [
    {
     "name": "stdout",
     "output_type": "stream",
     "text": [
      "51580674\n"
     ]
    }
   ],
   "source": [
    "packs = content.split(\"\\n\\n\")\n",
    "seeds = [int(seed) for seed in packs[0].split(\":\")[1].split(\" \") if seed]\n",
    "\n",
    "for pack in packs[1:]:\n",
    "    maps = [x for x in pack.split(\"\\n\") if x]\n",
    "    \n",
    "    seed_changed = [False for _ in seeds]\n",
    "    for current_map in maps[1:]:\n",
    "        map_numbers = current_map.split(\" \")\n",
    "        dest_range_start = int(map_numbers[0])\n",
    "        source_range_start = int(map_numbers[1])\n",
    "        range_length = int(map_numbers[2])\n",
    "        for seed_index in range(len(seeds)):            \n",
    "            if seeds[seed_index] in range(source_range_start, source_range_start + range_length) and not seed_changed[seed_index]:\n",
    "                seeds[seed_index] = dest_range_start + seeds[seed_index] - source_range_start\n",
    "                seed_changed[seed_index] = True\n",
    "print(min(seeds))"
   ]
  },
  {
   "cell_type": "markdown",
   "metadata": {},
   "source": [
    "Part 2"
   ]
  },
  {
   "cell_type": "code",
   "execution_count": 29,
   "metadata": {},
   "outputs": [],
   "source": [
    "packs = content.split(\"\\n\\n\")\n",
    "seeds = [int(seed) for seed in packs[0].split(\":\")[1].split(\" \") if seed]\n",
    "\n",
    "maps = [[list(map(int, x.split(\" \"))) for x in pack.split(\"\\n\")[1:] if x] for pack in packs[1:]]\n",
    "for mapping in maps:\n",
    "  mapping.sort(key=lambda x: x[1])\n",
    "\n",
    "# for seed_index in range(0, len(seeds), 2):\n",
    "#     start = seeds[seed_index]\n",
    "#     end = start + seeds[seed_index + 1]\n",
    "#     for current_map in maps:\n",
    "#         for map_rule in current_map:\n",
    "#             if start > "
   ]
  },
  {
   "cell_type": "code",
   "execution_count": 30,
   "metadata": {},
   "outputs": [],
   "source": [
    "def lowest_range_location(seeds: list[int], maps: list) -> int:\n",
    "  lowest_locations = []\n",
    "\n",
    "  for start, length in zip(*[iter(seeds)] * 2):\n",
    "    src_ranges = [(start, start + length - 1)]\n",
    "    dst_ranges = []\n",
    "\n",
    "    for mapping in maps:\n",
    "      for lo, hi in src_ranges:\n",
    "        for dest, src, dist in mapping:\n",
    "\n",
    "          # entire source range is less than any mapping\n",
    "          # pass through source range as destination range\n",
    "          if hi < src:\n",
    "            dst_ranges.append((lo, hi))\n",
    "            break\n",
    "\n",
    "          # source range is contained within this range\n",
    "          elif lo >= src and lo < src + dist:\n",
    "\n",
    "            # the end of the source range is past this range\n",
    "            # add a destination range for the part within this range\n",
    "            # and continue processing the rest of the source range\n",
    "            if hi >= src + dist:\n",
    "              dst_ranges.append((dest + (lo - src), dest + dist - 1))\n",
    "              lo = src + dist\n",
    "\n",
    "            # the source range is wholly contained within this range\n",
    "            # map the entire range as the destination range\n",
    "            else:\n",
    "              dst_ranges.append((dest + (lo - src), dest + (hi - src)))\n",
    "              break\n",
    "\n",
    "          # part of the source range is less than any mapping\n",
    "          # add a destination range passing through the part not in a mapping\n",
    "          # and continue processing for the rest of the source range\n",
    "          elif lo < src and hi >= src:\n",
    "            dst_ranges.append((lo, src - 1))\n",
    "            lo = src\n",
    "\n",
    "        # the source range was not contained within any mapping\n",
    "        # pass through the source range as the destination range\n",
    "        else:\n",
    "          dst_ranges.append((lo, hi))\n",
    "\n",
    "      # results of one mapping become the ranges for the next\n",
    "      src_ranges = dst_ranges\n",
    "      dst_ranges = []\n",
    "\n",
    "    # find the lowest result out of all the final ranges\n",
    "    lowest_locations.append(min(lo for lo, _ in src_ranges))\n",
    "\n",
    "  return min(lowest_locations)"
   ]
  },
  {
   "cell_type": "code",
   "execution_count": 31,
   "metadata": {},
   "outputs": [
    {
     "name": "stdout",
     "output_type": "stream",
     "text": [
      "105230362\n"
     ]
    }
   ],
   "source": [
    "print(lowest_range_location(seeds, maps))"
   ]
  },
  {
   "cell_type": "code",
   "execution_count": 5,
   "metadata": {},
   "outputs": [],
   "source": [
    "import numpy as np\n",
    "from tqdm import tqdm\n",
    "from functools import reduce"
   ]
  },
  {
   "cell_type": "code",
   "execution_count": 16,
   "metadata": {},
   "outputs": [
    {
     "name": "stdout",
     "output_type": "stream",
     "text": [
      "46\n"
     ]
    }
   ],
   "source": [
    "def convert_seed_through_all_maps(seed: int) -> int:\n",
    "    def apply_current_map(current_seed, map_rules):\n",
    "        conditions = np.logical_and(current_seed >= map_rules[:, 1], current_seed < map_rules[:, 1] + map_rules[:, 2])\n",
    "        index = np.argmax(conditions)\n",
    "        return map_rules[index, 0] + current_seed - map_rules[index, 1] if np.any(conditions) else current_seed\n",
    "\n",
    "    return reduce(apply_current_map, maps, seed)\n",
    "\n",
    "packs = content.split(\"\\n\\n\")\n",
    "seeds = [int(seed) for seed in packs[0].split(\":\")[1].split(\" \") if seed]\n",
    "\n",
    "global maps\n",
    "maps = []\n",
    "lowest_seed = np.inf\n",
    "\n",
    "for pack in packs[1:]:\n",
    "    map_pack = [x.split(\" \") for x in pack.split(\"\\n\") if x]\n",
    "    maps.append(np.array(map_pack[1:], dtype=np.int64))\n",
    "\n",
    "for seed_index in range(0, len(seeds), 2):\n",
    "    start = seeds[seed_index]\n",
    "    end = start + seeds[seed_index + 1]\n",
    "    current_seeds = np.arange(start, end)\n",
    "    new_seeds = np.vectorize(convert_seed_through_all_maps)(current_seeds)\n",
    "    lowest_seed = min(lowest_seed, np.min(new_seeds))\n",
    "\n",
    "print(lowest_seed)\n"
   ]
  },
  {
   "cell_type": "code",
   "execution_count": 15,
   "metadata": {},
   "outputs": [
    {
     "name": "stdout",
     "output_type": "stream",
     "text": [
      "46\n"
     ]
    }
   ],
   "source": [
    "import numpy as np\n",
    "\n",
    "def convert_seed_through_all_maps(seed: int, maps):\n",
    "    current_seed = seed\n",
    "    for map_rules in maps:\n",
    "        conditions = (current_seed >= map_rules[:, 1]) & (current_seed < map_rules[:, 1] + map_rules[:, 2])\n",
    "        if np.any(conditions):\n",
    "            index = np.argmax(conditions)\n",
    "            current_seed = map_rules[index, 0] + current_seed - map_rules[index, 1]\n",
    "    return current_seed\n",
    "\n",
    "packs = content.split(\"\\n\\n\")\n",
    "seeds = [int(seed) for seed in packs[0].split(\":\")[1].split(\" \") if seed]\n",
    "\n",
    "maps = [np.array([list(map(int, x.split(\" \"))) for x in pack.split(\"\\n\")[1:] if x], dtype=np.int64) for pack in packs[1:]]\n",
    "\n",
    "lowest_seed = np.inf\n",
    "\n",
    "for seed_index in range(0, len(seeds), 2):\n",
    "    start = seeds[seed_index]\n",
    "    end = start + seeds[seed_index + 1]\n",
    "\n",
    "    for current_seed in range(start, end):\n",
    "        current_seed = convert_seed_through_all_maps(current_seed, maps)\n",
    "        lowest_seed = min(lowest_seed, current_seed)\n",
    "\n",
    "print(lowest_seed)\n"
   ]
  },
  {
   "cell_type": "code",
   "execution_count": null,
   "metadata": {},
   "outputs": [],
   "source": []
  }
 ],
 "metadata": {
  "kernelspec": {
   "display_name": "Python 3.8.8 ('base')",
   "language": "python",
   "name": "python3"
  },
  "language_info": {
   "codemirror_mode": {
    "name": "ipython",
    "version": 3
   },
   "file_extension": ".py",
   "mimetype": "text/x-python",
   "name": "python",
   "nbconvert_exporter": "python",
   "pygments_lexer": "ipython3",
   "version": "3.9.12"
  },
  "orig_nbformat": 4,
  "vscode": {
   "interpreter": {
    "hash": "740329b21a1252e1c253d583311b6d3f7744168cabc7e2151c4ba7a007513518"
   }
  }
 },
 "nbformat": 4,
 "nbformat_minor": 2
}
