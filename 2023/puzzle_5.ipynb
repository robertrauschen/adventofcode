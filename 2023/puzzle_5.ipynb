{
 "cells": [
  {
   "cell_type": "code",
   "execution_count": 1,
   "metadata": {},
   "outputs": [],
   "source": [
    "INPUTFILE = 'testinput_5.txt'\n",
    "\n",
    "with open(INPUTFILE, 'r') as file:\n",
    "    content = file.read()\n",
    "rows = (content.split(\"\\n\"))[:-1]"
   ]
  },
  {
   "cell_type": "markdown",
   "metadata": {},
   "source": [
    "Part 1"
   ]
  },
  {
   "cell_type": "code",
   "execution_count": 17,
   "metadata": {},
   "outputs": [
    {
     "name": "stdout",
     "output_type": "stream",
     "text": [
      "35\n"
     ]
    }
   ],
   "source": [
    "packs = content.split(\"\\n\\n\")\n",
    "seeds = [int(seed) for seed in packs[0].split(\":\")[1].split(\" \") if seed]\n",
    "\n",
    "for pack in packs[1:]:\n",
    "    maps = [x for x in pack.split(\"\\n\") if x]\n",
    "    \n",
    "    seed_changed = [False for _ in seeds]\n",
    "    for current_map in maps[1:]:\n",
    "        map_numbers = current_map.split(\" \")\n",
    "        dest_range_start = int(map_numbers[0])\n",
    "        source_range_start = int(map_numbers[1])\n",
    "        range_length = int(map_numbers[2])\n",
    "        for seed_index in range(len(seeds)):            \n",
    "            if seeds[seed_index] in range(source_range_start, source_range_start + range_length) and not seed_changed[seed_index]:\n",
    "                seeds[seed_index] = dest_range_start + seeds[seed_index] - source_range_start\n",
    "                seed_changed[seed_index] = True\n",
    "print(min(seeds))"
   ]
  },
  {
   "cell_type": "markdown",
   "metadata": {},
   "source": [
    "Part 2"
   ]
  },
  {
   "cell_type": "code",
   "execution_count": 18,
   "metadata": {},
   "outputs": [],
   "source": [
    "packs = content.split(\"\\n\\n\")\n",
    "seeds = [int(seed) for seed in packs[0].split(\":\")[1].split(\" \") if seed]\n",
    "\n",
    "maps = [[list(map(int, x.split(\" \"))) for x in pack.split(\"\\n\")[1:] if x] for pack in packs[1:]]\n",
    "\n",
    "for seed_index in range(0, len(seeds), 2):\n",
    "    start = seeds[seed_index]\n",
    "    end = start + seeds[seed_index + 1]\n",
    "    for current_map in maps:\n",
    "        for map_rule in current_map:\n",
    "            if start > "
   ]
  },
  {
   "cell_type": "code",
   "execution_count": 19,
   "metadata": {},
   "outputs": [
    {
     "data": {
      "text/plain": [
       "[79, 14, 55, 13]"
      ]
     },
     "execution_count": 19,
     "metadata": {},
     "output_type": "execute_result"
    }
   ],
   "source": [
    "seeds"
   ]
  },
  {
   "cell_type": "code",
   "execution_count": 20,
   "metadata": {},
   "outputs": [
    {
     "data": {
      "text/plain": [
       "[[[50, 98, 2], [52, 50, 48]],\n",
       " [[0, 15, 37], [37, 52, 2], [39, 0, 15]],\n",
       " [[49, 53, 8], [0, 11, 42], [42, 0, 7], [57, 7, 4]],\n",
       " [[88, 18, 7], [18, 25, 70]],\n",
       " [[45, 77, 23], [81, 45, 19], [68, 64, 13]],\n",
       " [[0, 69, 1], [1, 0, 69]],\n",
       " [[60, 56, 37], [56, 93, 4]]]"
      ]
     },
     "execution_count": 20,
     "metadata": {},
     "output_type": "execute_result"
    }
   ],
   "source": [
    "maps"
   ]
  },
  {
   "cell_type": "code",
   "execution_count": 5,
   "metadata": {},
   "outputs": [],
   "source": [
    "import numpy as np\n",
    "from tqdm import tqdm\n",
    "from functools import reduce"
   ]
  },
  {
   "cell_type": "code",
   "execution_count": 16,
   "metadata": {},
   "outputs": [
    {
     "name": "stdout",
     "output_type": "stream",
     "text": [
      "46\n"
     ]
    }
   ],
   "source": [
    "def convert_seed_through_all_maps(seed: int) -> int:\n",
    "    def apply_current_map(current_seed, map_rules):\n",
    "        conditions = np.logical_and(current_seed >= map_rules[:, 1], current_seed < map_rules[:, 1] + map_rules[:, 2])\n",
    "        index = np.argmax(conditions)\n",
    "        return map_rules[index, 0] + current_seed - map_rules[index, 1] if np.any(conditions) else current_seed\n",
    "\n",
    "    return reduce(apply_current_map, maps, seed)\n",
    "\n",
    "packs = content.split(\"\\n\\n\")\n",
    "seeds = [int(seed) for seed in packs[0].split(\":\")[1].split(\" \") if seed]\n",
    "\n",
    "global maps\n",
    "maps = []\n",
    "lowest_seed = np.inf\n",
    "\n",
    "for pack in packs[1:]:\n",
    "    map_pack = [x.split(\" \") for x in pack.split(\"\\n\") if x]\n",
    "    maps.append(np.array(map_pack[1:], dtype=np.int64))\n",
    "\n",
    "for seed_index in range(0, len(seeds), 2):\n",
    "    start = seeds[seed_index]\n",
    "    end = start + seeds[seed_index + 1]\n",
    "    current_seeds = np.arange(start, end)\n",
    "    new_seeds = np.vectorize(convert_seed_through_all_maps)(current_seeds)\n",
    "    lowest_seed = min(lowest_seed, np.min(new_seeds))\n",
    "\n",
    "print(lowest_seed)\n"
   ]
  },
  {
   "cell_type": "code",
   "execution_count": 15,
   "metadata": {},
   "outputs": [
    {
     "name": "stdout",
     "output_type": "stream",
     "text": [
      "46\n"
     ]
    }
   ],
   "source": [
    "import numpy as np\n",
    "\n",
    "def convert_seed_through_all_maps(seed: int, maps):\n",
    "    current_seed = seed\n",
    "    for map_rules in maps:\n",
    "        conditions = (current_seed >= map_rules[:, 1]) & (current_seed < map_rules[:, 1] + map_rules[:, 2])\n",
    "        if np.any(conditions):\n",
    "            index = np.argmax(conditions)\n",
    "            current_seed = map_rules[index, 0] + current_seed - map_rules[index, 1]\n",
    "    return current_seed\n",
    "\n",
    "packs = content.split(\"\\n\\n\")\n",
    "seeds = [int(seed) for seed in packs[0].split(\":\")[1].split(\" \") if seed]\n",
    "\n",
    "maps = [np.array([list(map(int, x.split(\" \"))) for x in pack.split(\"\\n\")[1:] if x], dtype=np.int64) for pack in packs[1:]]\n",
    "\n",
    "lowest_seed = np.inf\n",
    "\n",
    "for seed_index in range(0, len(seeds), 2):\n",
    "    start = seeds[seed_index]\n",
    "    end = start + seeds[seed_index + 1]\n",
    "\n",
    "    for current_seed in range(start, end):\n",
    "        current_seed = convert_seed_through_all_maps(current_seed, maps)\n",
    "        lowest_seed = min(lowest_seed, current_seed)\n",
    "\n",
    "print(lowest_seed)\n"
   ]
  },
  {
   "cell_type": "code",
   "execution_count": null,
   "metadata": {},
   "outputs": [],
   "source": []
  }
 ],
 "metadata": {
  "kernelspec": {
   "display_name": "Python 3.8.8 ('base')",
   "language": "python",
   "name": "python3"
  },
  "language_info": {
   "codemirror_mode": {
    "name": "ipython",
    "version": 3
   },
   "file_extension": ".py",
   "mimetype": "text/x-python",
   "name": "python",
   "nbconvert_exporter": "python",
   "pygments_lexer": "ipython3",
   "version": "3.9.12"
  },
  "orig_nbformat": 4,
  "vscode": {
   "interpreter": {
    "hash": "740329b21a1252e1c253d583311b6d3f7744168cabc7e2151c4ba7a007513518"
   }
  }
 },
 "nbformat": 4,
 "nbformat_minor": 2
}
