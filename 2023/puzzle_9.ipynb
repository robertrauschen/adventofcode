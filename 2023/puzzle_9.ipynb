{
 "cells": [
  {
   "cell_type": "code",
   "execution_count": 14,
   "metadata": {},
   "outputs": [],
   "source": [
    "INPUTFILE = 'input_9.txt'\n",
    "\n",
    "with open(INPUTFILE, 'r') as file:\n",
    "    content = file.read()\n",
    "rows = (content.split(\"\\n\"))[:-1]"
   ]
  },
  {
   "cell_type": "markdown",
   "metadata": {},
   "source": [
    "Part 1"
   ]
  },
  {
   "cell_type": "code",
   "execution_count": 15,
   "metadata": {},
   "outputs": [],
   "source": [
    "def pred_next(seq):\n",
    "    diffs = []\n",
    "    for i in range(1, len(seq)):\n",
    "        diffs.append(int(seq[i]) - int(seq[i-1]))\n",
    "    if all(x == 0 for x in diffs):\n",
    "        return seq[-1]\n",
    "    else:\n",
    "        return seq[-1] + pred_next(diffs)"
   ]
  },
  {
   "cell_type": "code",
   "execution_count": 16,
   "metadata": {},
   "outputs": [
    {
     "name": "stdout",
     "output_type": "stream",
     "text": [
      "1939607039\n"
     ]
    }
   ],
   "source": [
    "sum = 0\n",
    "for row in rows:\n",
    "  sum += pred_next(list(map(int, row.split(\" \"))))\n",
    "print(sum)"
   ]
  },
  {
   "cell_type": "markdown",
   "metadata": {},
   "source": [
    "Part 2"
   ]
  },
  {
   "cell_type": "code",
   "execution_count": 17,
   "metadata": {},
   "outputs": [],
   "source": [
    "def pred_prev(seq):\n",
    "    diffs = []\n",
    "    for i in range(1, len(seq)):\n",
    "        diffs.append(int(seq[i]) - int(seq[i-1]))\n",
    "    if all(x == 0 for x in diffs):\n",
    "        return seq[0]\n",
    "    else:\n",
    "        return seq[0] - pred_prev(diffs)"
   ]
  },
  {
   "cell_type": "code",
   "execution_count": 18,
   "metadata": {},
   "outputs": [
    {
     "name": "stdout",
     "output_type": "stream",
     "text": [
      "1041\n"
     ]
    }
   ],
   "source": [
    "sum = 0\n",
    "for row in rows:\n",
    "  sum += pred_prev(list(map(int, row.split(\" \"))))\n",
    "print(sum)"
   ]
  },
  {
   "cell_type": "code",
   "execution_count": null,
   "metadata": {},
   "outputs": [],
   "source": []
  }
 ],
 "metadata": {
  "kernelspec": {
   "display_name": "chemputer",
   "language": "python",
   "name": "python3"
  },
  "language_info": {
   "codemirror_mode": {
    "name": "ipython",
    "version": 3
   },
   "file_extension": ".py",
   "mimetype": "text/x-python",
   "name": "python",
   "nbconvert_exporter": "python",
   "pygments_lexer": "ipython3",
   "version": "3.10.13"
  }
 },
 "nbformat": 4,
 "nbformat_minor": 2
}
