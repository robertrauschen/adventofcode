{
 "cells": [
  {
   "cell_type": "code",
   "execution_count": 24,
   "metadata": {},
   "outputs": [],
   "source": [
    "import numpy as np"
   ]
  },
  {
   "cell_type": "code",
   "execution_count": 27,
   "metadata": {},
   "outputs": [],
   "source": [
    "INPUTFILE = 'input_2.txt'\n",
    "\n",
    "with open(INPUTFILE, 'r') as file:\n",
    "    input = file.read()\n",
    "rows = (input.split(\"\\n\"))[:-1]"
   ]
  },
  {
   "cell_type": "markdown",
   "metadata": {},
   "source": [
    "Part 1"
   ]
  },
  {
   "cell_type": "code",
   "execution_count": 23,
   "metadata": {},
   "outputs": [
    {
     "name": "stdout",
     "output_type": "stream",
     "text": [
      "2207\n"
     ]
    }
   ],
   "source": [
    "max_cubes = {\n",
    "  \"red\": 12,\n",
    "  \"green\": 13,\n",
    "  \"blue\": 14,\n",
    "}\n",
    "\n",
    "sum = 0\n",
    "for row in rows:\n",
    "  possible = True\n",
    "  colon_split = row.split(\":\")\t\n",
    "  id = int(colon_split[0].split(\" \")[1])\n",
    "  subsets = colon_split[1].split(\";\")\n",
    "  for subset in subsets:\n",
    "    subsubsets = subset.split(\",\")\n",
    "    for subsubset in subsubsets:\n",
    "      color = subsubset.split(\" \")[2]\n",
    "      cubes = int(subsubset.split(\" \")[1])\n",
    "      if cubes > max_cubes[color]:\n",
    "        possible = False\n",
    "        break\n",
    "    if not possible:\n",
    "      break\n",
    "  if possible:\n",
    "    sum += id\n",
    "  #print(id, possible)\n",
    "print(sum)"
   ]
  },
  {
   "cell_type": "markdown",
   "metadata": {},
   "source": [
    "Part 2"
   ]
  },
  {
   "cell_type": "code",
   "execution_count": 29,
   "metadata": {},
   "outputs": [
    {
     "name": "stdout",
     "output_type": "stream",
     "text": [
      "62241\n"
     ]
    }
   ],
   "source": [
    "from functools import reduce\n",
    "\n",
    "def product(iterable):\n",
    "  return reduce(lambda x, y: x * y, iterable)\n",
    "\n",
    "sum = 0\n",
    "for row in rows:\n",
    "  min_cubes = {\n",
    "    \"red\": 0,\n",
    "    \"green\": 0,\n",
    "    \"blue\": 0,\n",
    "  }\n",
    "  colon_split = row.split(\":\")\t\n",
    "  id = int(colon_split[0].split(\" \")[1])\n",
    "  subsets = colon_split[1].split(\";\")\n",
    "  for subset in subsets:\n",
    "    subsubsets = subset.split(\",\")\n",
    "    for subsubset in subsubsets:\n",
    "      color = subsubset.split(\" \")[2]\n",
    "      cubes = int(subsubset.split(\" \")[1])\n",
    "      if cubes > min_cubes[color]:\n",
    "        min_cubes[color] = cubes\n",
    "  # calculate product of min_cubes\n",
    "  power = product(min_cubes.values())\n",
    "  #print(id, power)\n",
    "  sum += power\n",
    "print(sum)"
   ]
  },
  {
   "cell_type": "code",
   "execution_count": null,
   "metadata": {},
   "outputs": [],
   "source": []
  }
 ],
 "metadata": {
  "kernelspec": {
   "display_name": "Python 3.8.8 ('base')",
   "language": "python",
   "name": "python3"
  },
  "language_info": {
   "codemirror_mode": {
    "name": "ipython",
    "version": 3
   },
   "file_extension": ".py",
   "mimetype": "text/x-python",
   "name": "python",
   "nbconvert_exporter": "python",
   "pygments_lexer": "ipython3",
   "version": "3.10.13"
  },
  "orig_nbformat": 4,
  "vscode": {
   "interpreter": {
    "hash": "740329b21a1252e1c253d583311b6d3f7744168cabc7e2151c4ba7a007513518"
   }
  }
 },
 "nbformat": 4,
 "nbformat_minor": 2
}
