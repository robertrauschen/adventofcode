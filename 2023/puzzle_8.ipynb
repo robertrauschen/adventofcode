{
 "cells": [
  {
   "cell_type": "code",
   "execution_count": 78,
   "metadata": {},
   "outputs": [],
   "source": [
    "INPUTFILE = 'input_8.txt'\n",
    "\n",
    "with open(INPUTFILE, 'r') as file:\n",
    "    content = file.read()\n",
    "rows = (content.split(\"\\n\"))[:-1]"
   ]
  },
  {
   "cell_type": "markdown",
   "metadata": {},
   "source": [
    "Part 1"
   ]
  },
  {
   "cell_type": "code",
   "execution_count": 79,
   "metadata": {},
   "outputs": [
    {
     "name": "stdout",
     "output_type": "stream",
     "text": [
      "21251\n"
     ]
    }
   ],
   "source": [
    "instructions = rows[0].replace('L', '0').replace('R', '1')\n",
    "nodes = {}\n",
    "\n",
    "for row in rows[2:]:\n",
    "  key, value_string = row.replace(' ', '').split(\"=\")\n",
    "  nodes[key] = tuple(value_string.strip('()').split(\",\"))\n",
    "\n",
    "current_node = 'AAA'\n",
    "instruction_increment = 0\n",
    "total_steps = 0\n",
    "while current_node != 'ZZZ':\n",
    "  #print(current_node)\n",
    "  current_node = nodes[current_node][int(instructions[instruction_increment])]\n",
    "  instruction_increment += 1\n",
    "  if instruction_increment >= len(instructions):\n",
    "    instruction_increment = 0\n",
    "  total_steps += 1\n",
    "print(total_steps)"
   ]
  },
  {
   "cell_type": "markdown",
   "metadata": {},
   "source": [
    "Part 2"
   ]
  },
  {
   "cell_type": "code",
   "execution_count": 83,
   "metadata": {},
   "outputs": [
    {
     "name": "stdout",
     "output_type": "stream",
     "text": [
      "42502\n",
      "[15871, 21251, 16409, 11567, 18023, 14257]\n",
      "[31742, 42502, 32818, 23134, 36046, 28514]\n"
     ]
    }
   ],
   "source": [
    "instructions = rows[0].replace('L', '0').replace('R', '1')\n",
    "nodes = {}\n",
    "\n",
    "for row in rows[2:]:\n",
    "  key, value_string = row.replace(' ', '').split(\"=\")\n",
    "  nodes[key] = tuple(value_string.strip('()').split(\",\"))\n",
    "\n",
    "current_nodes = [node for node in nodes.keys() if node[-1] == 'A']\n",
    "instruction_increment = 0\n",
    "total_steps = 0\n",
    "reached_first_z = [0 for _ in range(len(current_nodes))]\n",
    "reached_second_z = [0 for _ in range(len(current_nodes))]\n",
    "while not all(reached_second_z):\n",
    "  #print(current_nodes)\n",
    "  current_nodes = [nodes[node][int(instructions[instruction_increment])] for node in current_nodes]\n",
    "  instruction_increment += 1\n",
    "  if instruction_increment >= len(instructions):\n",
    "    instruction_increment = 0\n",
    "  total_steps += 1\n",
    "  for node_index in range(len(current_nodes)):\n",
    "    if current_nodes[node_index][-1] == 'Z':\n",
    "      if reached_first_z[node_index] == 0:\n",
    "        reached_first_z[node_index] = total_steps\n",
    "      elif reached_second_z[node_index] == 0:\n",
    "        reached_second_z[node_index] = total_steps\n",
    "print(total_steps)\n",
    "print(reached_first_z)\n",
    "print(reached_second_z)"
   ]
  },
  {
   "cell_type": "code",
   "execution_count": 87,
   "metadata": {},
   "outputs": [
    {
     "data": {
      "text/plain": [
       "[31742, 42502, 32818, 23134, 36046, 28514]"
      ]
     },
     "execution_count": 87,
     "metadata": {},
     "output_type": "execute_result"
    }
   ],
   "source": [
    "[x*2 for x in reached_first_z]"
   ]
  },
  {
   "cell_type": "code",
   "execution_count": 105,
   "metadata": {},
   "outputs": [
    {
     "data": {
      "text/plain": [
       "11678319315857"
      ]
     },
     "execution_count": 105,
     "metadata": {},
     "output_type": "execute_result"
    }
   ],
   "source": [
    "import numpy as np\n",
    "np.lcm.reduce(np.array(reached_first_z, dtype=np.int64))"
   ]
  },
  {
   "cell_type": "code",
   "execution_count": 102,
   "metadata": {},
   "outputs": [
    {
     "data": {
      "text/plain": [
       "11678319315857"
      ]
     },
     "execution_count": 102,
     "metadata": {},
     "output_type": "execute_result"
    }
   ],
   "source": [
    "from math import lcm\n",
    "lcm(*reached_first_z)"
   ]
  }
 ],
 "metadata": {
  "kernelspec": {
   "display_name": "Python 3.8.8 ('base')",
   "language": "python",
   "name": "python3"
  },
  "language_info": {
   "codemirror_mode": {
    "name": "ipython",
    "version": 3
   },
   "file_extension": ".py",
   "mimetype": "text/x-python",
   "name": "python",
   "nbconvert_exporter": "python",
   "pygments_lexer": "ipython3",
   "version": "3.9.12"
  },
  "orig_nbformat": 4,
  "vscode": {
   "interpreter": {
    "hash": "740329b21a1252e1c253d583311b6d3f7744168cabc7e2151c4ba7a007513518"
   }
  }
 },
 "nbformat": 4,
 "nbformat_minor": 2
}
