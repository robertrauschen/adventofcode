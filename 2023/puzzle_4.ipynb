{
 "cells": [
  {
   "cell_type": "code",
   "execution_count": 5,
   "metadata": {},
   "outputs": [],
   "source": [
    "INPUTFILE = 'input_4.txt'\n",
    "\n",
    "with open(INPUTFILE, 'r') as file:\n",
    "    input = file.read()\n",
    "rows = (input.split(\"\\n\"))[:-1]"
   ]
  },
  {
   "cell_type": "markdown",
   "metadata": {},
   "source": [
    "Part 1"
   ]
  },
  {
   "cell_type": "code",
   "execution_count": 6,
   "metadata": {},
   "outputs": [
    {
     "name": "stdout",
     "output_type": "stream",
     "text": [
      "26443\n"
     ]
    }
   ],
   "source": [
    "points = 0\n",
    "for row in rows:\n",
    "  numbers = row.split(\":\")[1].split(\"|\")\n",
    "  winning = [x for x in numbers[0].split(\" \") if x]\n",
    "  mine = [x for x in numbers[1].split(\" \") if x]\n",
    "  num_matches = len(set(winning) & set(mine))\n",
    "  if num_matches > 0:\n",
    "    points += 2**(num_matches-1)\n",
    "print(points) # 26443"
   ]
  },
  {
   "cell_type": "markdown",
   "metadata": {},
   "source": [
    "Part 2"
   ]
  },
  {
   "cell_type": "code",
   "execution_count": 7,
   "metadata": {},
   "outputs": [
    {
     "name": "stdout",
     "output_type": "stream",
     "text": [
      "6284877\n"
     ]
    }
   ],
   "source": [
    "copies = [1] * len(rows)\n",
    "for row_index in range(len(rows)):\n",
    "  numbers = rows[row_index].split(\":\")[1].split(\"|\")\n",
    "  winning = [x for x in numbers[0].split(\" \") if x]\n",
    "  mine = [x for x in numbers[1].split(\" \") if x]\n",
    "  num_matches = len(set(winning) & set(mine))\n",
    "  #print(num_matches)\n",
    "  for copy in range(copies[row_index]):\n",
    "    for i in range(num_matches):\n",
    "      copies[row_index + 1 + i] += 1\n",
    "#print(copies)\n",
    "print(sum(copies))\n"
   ]
  },
  {
   "cell_type": "code",
   "execution_count": null,
   "metadata": {},
   "outputs": [],
   "source": []
  }
 ],
 "metadata": {
  "kernelspec": {
   "display_name": "Python 3.8.8 ('base')",
   "language": "python",
   "name": "python3"
  },
  "language_info": {
   "codemirror_mode": {
    "name": "ipython",
    "version": 3
   },
   "file_extension": ".py",
   "mimetype": "text/x-python",
   "name": "python",
   "nbconvert_exporter": "python",
   "pygments_lexer": "ipython3",
   "version": "3.9.12"
  },
  "orig_nbformat": 4,
  "vscode": {
   "interpreter": {
    "hash": "740329b21a1252e1c253d583311b6d3f7744168cabc7e2151c4ba7a007513518"
   }
  }
 },
 "nbformat": 4,
 "nbformat_minor": 2
}
