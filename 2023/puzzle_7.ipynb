{
 "cells": [
  {
   "cell_type": "code",
   "execution_count": 65,
   "metadata": {},
   "outputs": [],
   "source": [
    "INPUTFILE = 'input_7.txt'\n",
    "\n",
    "with open(INPUTFILE, 'r') as file:\n",
    "    content = file.read()\n",
    "rows = (content.split(\"\\n\"))[:-1]"
   ]
  },
  {
   "cell_type": "code",
   "execution_count": 66,
   "metadata": {},
   "outputs": [],
   "source": [
    "from scipy.stats import rankdata"
   ]
  },
  {
   "cell_type": "markdown",
   "metadata": {},
   "source": [
    "Part 1"
   ]
  },
  {
   "cell_type": "code",
   "execution_count": 67,
   "metadata": {},
   "outputs": [],
   "source": [
    "card_strengths = {\n",
    "  'A': 12,\n",
    "  'K': 11,\n",
    "  'Q': 10,\n",
    "  'J': 9,\n",
    "  'T': 8,\n",
    "  '9': 7,\n",
    "  '8': 6,\n",
    "  '7': 5,\n",
    "  '6': 4,\n",
    "  '5': 3,\n",
    "  '4': 2,\n",
    "  '3': 1,\n",
    "  '2': 0\n",
    "}"
   ]
  },
  {
   "cell_type": "code",
   "execution_count": 68,
   "metadata": {},
   "outputs": [
    {
     "name": "stdout",
     "output_type": "stream",
     "text": [
      "248836197\n"
     ]
    }
   ],
   "source": [
    "hands:list[str] = []\n",
    "bids:list[int] = []\n",
    "for row in rows:\n",
    "  hands.append(row.split(\" \")[0])\n",
    "  bids.append(int(row.split(\" \")[1]))\n",
    "\n",
    "strengths = [0 for _ in range(len(hands))]\n",
    "\n",
    "for i in range(len(hands)):\n",
    "  hand = hands[i]\n",
    "  num_card_types = len(set(hand))\n",
    "  # assign types first\n",
    "  # check five of a kind\n",
    "  if num_card_types == 1:\n",
    "    strengths[i] += 6*13**5\n",
    "  # check four of a kind\n",
    "  elif hand.count(hand[0]) == 4 or hands[i].count(hand[1]) == 4:\n",
    "    strengths[i] += 5*13**5\n",
    "  # check full house\n",
    "  elif num_card_types == 2:\n",
    "    strengths[i] += 4*13**5\n",
    "  # check three of a kind\n",
    "  elif hand.count(hand[0]) == 3 or hand.count(hand[1]) == 3 or hand.count(hand[2]) == 3:\n",
    "    strengths[i] += 3*13**5\n",
    "  # check two pairs\n",
    "  elif num_card_types == 3:\n",
    "    strengths[i] += 2*13**5\n",
    "  # check one pair\n",
    "  elif num_card_types == 4:\n",
    "    strengths[i] += 1*13**5\n",
    "\n",
    "  # calculate card strengths for detailed comparison\n",
    "  for card_index in range(5):\n",
    "    strengths[i] += card_strengths[hand[card_index]] * 13 ** (4 - card_index)\n",
    "\n",
    "ranks = rankdata(strengths)\n",
    "winnings = int(sum(ranks * bids))\n",
    "print(winnings)\n",
    "if winnings != 248836197:\n",
    "  print(\"Wrong answer\")"
   ]
  },
  {
   "cell_type": "markdown",
   "metadata": {},
   "source": [
    "Part 2"
   ]
  },
  {
   "cell_type": "code",
   "execution_count": 74,
   "metadata": {},
   "outputs": [],
   "source": [
    "card_strengths = {\n",
    "  'A': 12,\n",
    "  'K': 11,\n",
    "  'Q': 10,\n",
    "  'T': 9,\n",
    "  '9': 8,\n",
    "  '8': 7,\n",
    "  '7': 6,\n",
    "  '6': 5,\n",
    "  '5': 4,\n",
    "  '4': 3,\n",
    "  '3': 2,\n",
    "  '2': 1,\n",
    "  'J': 0\n",
    "}"
   ]
  },
  {
   "cell_type": "code",
   "execution_count": 103,
   "metadata": {},
   "outputs": [
    {
     "name": "stdout",
     "output_type": "stream",
     "text": [
      "251195607\n",
      "Right answer\n"
     ]
    }
   ],
   "source": [
    "hands:list[str] = []\n",
    "bids:list[int] = []\n",
    "for row in rows:\n",
    "  hands.append(row.split(\" \")[0])\n",
    "  bids.append(int(row.split(\" \")[1]))\n",
    "\n",
    "strengths = [0 for _ in range(len(hands))]\n",
    "\n",
    "for i in range(len(hands)):\n",
    "  hand = hands[i]\n",
    "  #print(hand)\n",
    "  num_card_types = len(set(hand))\n",
    "  # assign types first\n",
    "  if 'J' in hand:\n",
    "    j_count = hand.count('J')\n",
    "    hand_without_j = hand.replace('J', '')\n",
    "    # check five of a kind\n",
    "    if num_card_types in [1,2]:\n",
    "      strengths[i] += 6*13**5\n",
    "    # check four of a kind\n",
    "    elif (4 in [hand_without_j.count(hand_without_j[x]) + j_count for x in range(len(hand_without_j))]):\n",
    "      strengths[i] += 5*13**5\n",
    "    # check full house\n",
    "    elif num_card_types == 3:\n",
    "      strengths[i] += 4*13**5\n",
    "    # check three of a kind\n",
    "    elif (3 in [hand_without_j.count(hand_without_j[x]) + j_count for x in range(len(hand_without_j))]):\n",
    "      strengths[i] += 3*13**5\n",
    "    # check two pairs\n",
    "    elif num_card_types == 4:\n",
    "      strengths[i] += 2*13**5\n",
    "      raise Exception(f\"something went wrong on {hand}, two pairs don't exist with J\")\n",
    "    # check one pair\n",
    "    elif num_card_types == 5:\n",
    "      strengths[i] += 1*13**5\n",
    "    else:\n",
    "      raise Exception(f\"something went wrong on {hand}\")\n",
    "  else:\n",
    "    # check five of a kind\n",
    "    if num_card_types == 1:\n",
    "      strengths[i] += 6*13**5\n",
    "    # check four of a kind\n",
    "    elif hand.count(hand[0]) == 4 or hands[i].count(hand[1]) == 4:\n",
    "      strengths[i] += 5*13**5\n",
    "    # check full house\n",
    "    elif num_card_types == 2:\n",
    "      strengths[i] += 4*13**5\n",
    "    # check three of a kind\n",
    "    elif hand.count(hand[0]) == 3 or hand.count(hand[1]) == 3 or hand.count(hand[2]) == 3:\n",
    "      strengths[i] += 3*13**5\n",
    "    # check two pairs\n",
    "    elif num_card_types == 3:\n",
    "      strengths[i] += 2*13**5\n",
    "    # check one pair\n",
    "    elif num_card_types == 4:\n",
    "      strengths[i] += 1*13**5\n",
    "    else:\n",
    "      pass\n",
    "\n",
    "  # calculate card strengths for detailed comparison\n",
    "  for card_index in range(5):\n",
    "    strengths[i] += card_strengths[hand[card_index]] * 13 ** (4 - card_index)\n",
    "\n",
    "ranks = rankdata(strengths)\n",
    "winnings = int(sum(ranks * bids))\n",
    "print(winnings)\n",
    "if winnings in [251311585, 251302566, 251828398]:\n",
    "  print(\"Wrong answer\")\n",
    "if winnings == 251195607:\n",
    "  print(\"Right answer\")\n"
   ]
  },
  {
   "cell_type": "code",
   "execution_count": null,
   "metadata": {},
   "outputs": [],
   "source": []
  }
 ],
 "metadata": {
  "kernelspec": {
   "display_name": "Python 3.8.8 ('base')",
   "language": "python",
   "name": "python3"
  },
  "language_info": {
   "codemirror_mode": {
    "name": "ipython",
    "version": 3
   },
   "file_extension": ".py",
   "mimetype": "text/x-python",
   "name": "python",
   "nbconvert_exporter": "python",
   "pygments_lexer": "ipython3",
   "version": "3.9.12"
  },
  "orig_nbformat": 4,
  "vscode": {
   "interpreter": {
    "hash": "740329b21a1252e1c253d583311b6d3f7744168cabc7e2151c4ba7a007513518"
   }
  }
 },
 "nbformat": 4,
 "nbformat_minor": 2
}
