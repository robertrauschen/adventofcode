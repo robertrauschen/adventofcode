{
 "cells": [
  {
   "cell_type": "code",
   "execution_count": 164,
   "metadata": {},
   "outputs": [],
   "source": [
    "INPUTFILE = 'input_10.txt'\n",
    "\n",
    "with open(INPUTFILE, 'r') as file:\n",
    "    content = file.read()\n",
    "rows = (content.split(\"\\n\"))[:-1]"
   ]
  },
  {
   "cell_type": "markdown",
   "metadata": {},
   "source": [
    "Part 1"
   ]
  },
  {
   "cell_type": "code",
   "execution_count": 170,
   "metadata": {},
   "outputs": [],
   "source": [
    "adj = {\n",
    "  '|': ((-1, 0), (1, 0)),\n",
    "  '-': ((0, -1), (0, 1)),\n",
    "  'L': ((-1, 0), (0, 1)),\n",
    "  'J': ((-1, 0), (0, -1)),\n",
    "  '7': ((1, 0), (0, -1)),\n",
    "  'F': ((1, 0), (0, 1)),\n",
    "}\n",
    "\n",
    "def add_tuple(a, b):\n",
    "  return tuple([sum(x) for x in zip(a, b)])"
   ]
  },
  {
   "cell_type": "code",
   "execution_count": 180,
   "metadata": {},
   "outputs": [
    {
     "name": "stdout",
     "output_type": "stream",
     "text": [
      "[(0, -1), (1, 0)]\n",
      "replaced start pile with 7\n"
     ]
    }
   ],
   "source": [
    "map = [list(row) for row in rows]\n",
    "\n",
    "for row in map:\n",
    "  if 'S' in row:\n",
    "    s_coord = (map.index(row), row.index('S'))\n",
    "    break\n",
    "path_1, path_2 = [s_coord], [s_coord]\n",
    "s_pipe = []\n",
    "for step in [(0, -1), (0, 1), (-1, 0), (1, 0)]:\n",
    "    neigh_coord = add_tuple(s_coord, step)\n",
    "    neigh_pile = map[neigh_coord[0]][neigh_coord[1]]\n",
    "    if neigh_pile in adj.keys():\n",
    "      if s_coord in [add_tuple(neigh_coord, adj[neigh_pile][0]), add_tuple(neigh_coord, adj[neigh_pile][1])]:\n",
    "        s_pipe.append(step)\n",
    "        if len(path_1) == 1:\n",
    "          path_1.append(neigh_coord)\n",
    "        elif len(path_2) == 1:\n",
    "          path_2.append(neigh_coord)\n",
    "        else:\n",
    "          raise Exception(\"More than 2 neighbours found\")\n",
    "print(s_pipe)\n",
    "for k, v in adj.items():\n",
    "  if all([x in v for x in s_pipe]):\n",
    "    map[s_coord[0]][s_coord[1]] = k\n",
    "    print(\"replaced start pile with\", k)\n",
    "    break"
   ]
  },
  {
   "cell_type": "code",
   "execution_count": 181,
   "metadata": {},
   "outputs": [
    {
     "name": "stdout",
     "output_type": "stream",
     "text": [
      "6842 6842\n"
     ]
    }
   ],
   "source": [
    "visited_1, visited_2 = set(path_1), set(path_2)\n",
    "loop = False\n",
    "while not loop:\n",
    "  for path, visited in zip([path_1, path_2], [visited_1, visited_2]):\n",
    "    current_coord = path[-1]\n",
    "    for direction in adj[map[current_coord[0]][current_coord[1]]]:\n",
    "      new_coord = add_tuple(path[-1], direction)\n",
    "      if new_coord not in visited:\n",
    "        path.append(new_coord)\n",
    "        visited.add(new_coord)\n",
    "        if new_coord in path_1 and new_coord in path_2:\n",
    "          loop = True\n",
    "          break\n",
    "        break\n",
    "print(len(path_1)-1, len(path_2)-1)\n"
   ]
  },
  {
   "cell_type": "code",
   "execution_count": 182,
   "metadata": {},
   "outputs": [],
   "source": [
    "total_path = set(path_1).union(set(path_2))"
   ]
  },
  {
   "cell_type": "markdown",
   "metadata": {},
   "source": [
    "Part 2"
   ]
  },
  {
   "cell_type": "code",
   "execution_count": 185,
   "metadata": {},
   "outputs": [],
   "source": [
    "def pile_in_loop(coord:tuple)->bool:\n",
    "  if coord in total_path:\n",
    "    return False\n",
    "  intersections = 0\n",
    "  for x in range(coord[0]+1):\n",
    "    pile = map[x][coord[1]]\n",
    "    if pile == '|':\n",
    "      continue\n",
    "    if (x, coord[1]) in total_path:\n",
    "      if pile in ['-', 'L', 'F']:\n",
    "        intersections += 1\n",
    "  return intersections % 2 == 1"
   ]
  },
  {
   "cell_type": "code",
   "execution_count": 186,
   "metadata": {},
   "outputs": [
    {
     "name": "stdout",
     "output_type": "stream",
     "text": [
      "393\n"
     ]
    }
   ],
   "source": [
    "enclosed = 0\n",
    "for row_index in range(len(map)):\n",
    "  for col_index in range(len(map[0])):\n",
    "    if pile_in_loop((row_index, col_index)):\n",
    "      map[row_index][col_index] = 'X'\n",
    "      enclosed += 1\n",
    "print(enclosed)\n"
   ]
  },
  {
   "cell_type": "code",
   "execution_count": 147,
   "metadata": {},
   "outputs": [
    {
     "name": "stdout",
     "output_type": "stream",
     "text": [
      "...........\n",
      ".F-------7.\n",
      ".|F-----7|.\n",
      ".||.....||.\n",
      ".||.....||.\n",
      ".|L-7.F-J|.\n",
      ".|XX|.|XX|.\n",
      ".L--J.L--J.\n",
      "...........\n"
     ]
    }
   ],
   "source": [
    "for row in map:\n",
    "  for char in row:\n",
    "    print(char, end='')\n",
    "  print()"
   ]
  },
  {
   "cell_type": "code",
   "execution_count": null,
   "metadata": {},
   "outputs": [],
   "source": []
  }
 ],
 "metadata": {
  "kernelspec": {
   "display_name": "chemputer",
   "language": "python",
   "name": "python3"
  },
  "language_info": {
   "codemirror_mode": {
    "name": "ipython",
    "version": 3
   },
   "file_extension": ".py",
   "mimetype": "text/x-python",
   "name": "python",
   "nbconvert_exporter": "python",
   "pygments_lexer": "ipython3",
   "version": "3.10.13"
  }
 },
 "nbformat": 4,
 "nbformat_minor": 2
}
