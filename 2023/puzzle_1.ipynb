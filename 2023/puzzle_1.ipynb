{
 "cells": [
  {
   "cell_type": "code",
   "execution_count": 88,
   "metadata": {},
   "outputs": [],
   "source": [
    "import re\n",
    "\n",
    "INPUTFILE = 'input_1.txt'\n",
    "#INPUTFILE = 'example_input_1.2.txt'\n",
    "\n",
    "with open(INPUTFILE, 'r') as file:\n",
    "    input = file.read()\n",
    "rows = (input.split(\"\\n\"))[:-1]"
   ]
  },
  {
   "cell_type": "code",
   "execution_count": 65,
   "metadata": {},
   "outputs": [],
   "source": [
    "sum = 0\n",
    "for row in rows:\n",
    "  digits = re.findall(r'\\d', row)\n",
    "  value = int(digits[0] + digits[-1])\n",
    "  sum += value"
   ]
  },
  {
   "cell_type": "code",
   "execution_count": 66,
   "metadata": {},
   "outputs": [
    {
     "data": {
      "text/plain": [
       "54304"
      ]
     },
     "execution_count": 66,
     "metadata": {},
     "output_type": "execute_result"
    }
   ],
   "source": [
    "sum"
   ]
  },
  {
   "cell_type": "code",
   "execution_count": 67,
   "metadata": {},
   "outputs": [],
   "source": [
    "string_digits = {\n",
    "  \"one\": \"1\",\n",
    "  \"two\": \"2\",\n",
    "  \"three\": \"3\",\n",
    "  \"four\": \"4\",\n",
    "  \"five\": \"5\",\n",
    "  \"six\": \"6\",\n",
    "  \"seven\": \"7\",\n",
    "  \"eight\": \"8\",\n",
    "  \"nine\": \"9\"\n",
    "}"
   ]
  },
  {
   "cell_type": "code",
   "execution_count": 97,
   "metadata": {},
   "outputs": [],
   "source": [
    "sum = 0\n",
    "for row in rows:\n",
    "  first_digit = 0\n",
    "  for char_index in range(len(row)):\n",
    "    if char_index < 5:\n",
    "      first_pattern = row[:char_index]\n",
    "    else:\n",
    "      first_pattern = row[char_index-5:char_index]\n",
    "    #print(first_pattern)\n",
    "    for string in string_digits:\n",
    "      if string in first_pattern:\n",
    "        first_digit = string_digits[string]\n",
    "        #print(first_digit)\n",
    "        break\n",
    "    if first_digit != 0:\n",
    "      break\n",
    "    if re.findall(r'\\d', first_pattern):\n",
    "      first_digit = re.findall(r'\\d', first_pattern)[0]\n",
    "      break\n",
    "\n",
    "  last_digit = 0\n",
    "  for char_index in range(len(row)):\n",
    "    if char_index < 5:\n",
    "      last_pattern = row[len(row)-char_index:]\n",
    "    else:\n",
    "      last_pattern = row[len(row)-char_index:len(row)-char_index+5] \n",
    "    for string in string_digits:\n",
    "      if string in last_pattern:\n",
    "        last_digit = string_digits[string]\n",
    "        break\n",
    "    if last_digit != 0:\n",
    "      break\n",
    "    if re.findall(r'\\d', last_pattern):\n",
    "      last_digit = re.findall(r'\\d', last_pattern)[-1]\n",
    "      break  \n",
    "\n",
    "  if last_digit == 0:\n",
    "    last_digit = first_digit\n",
    "  if first_digit == 0:\n",
    "    first_digit = last_digit\n",
    "  # digits = re.findall(r'\\d', row)\n",
    "  value = int(first_digit + last_digit)\n",
    "  sum += value\n",
    "  #print(row, value)\n",
    "  #print(first_digit, last_digit)\n",
    "  #break"
   ]
  },
  {
   "cell_type": "code",
   "execution_count": 98,
   "metadata": {},
   "outputs": [
    {
     "data": {
      "text/plain": [
       "54418"
      ]
     },
     "execution_count": 98,
     "metadata": {},
     "output_type": "execute_result"
    }
   ],
   "source": [
    "sum"
   ]
  }
 ],
 "metadata": {
  "kernelspec": {
   "display_name": "Python 3.8.8 ('base')",
   "language": "python",
   "name": "python3"
  },
  "language_info": {
   "codemirror_mode": {
    "name": "ipython",
    "version": 3
   },
   "file_extension": ".py",
   "mimetype": "text/x-python",
   "name": "python",
   "nbconvert_exporter": "python",
   "pygments_lexer": "ipython3",
   "version": "3.9.12"
  },
  "orig_nbformat": 4,
  "vscode": {
   "interpreter": {
    "hash": "740329b21a1252e1c253d583311b6d3f7744168cabc7e2151c4ba7a007513518"
   }
  }
 },
 "nbformat": 4,
 "nbformat_minor": 2
}
